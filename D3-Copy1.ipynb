{
 "cells": [
  {
   "cell_type": "code",
   "execution_count": null,
   "id": "7cc355a5",
   "metadata": {},
   "outputs": [],
   "source": [
    "import numpy as np\n",
    "import networkx as nx\n",
    "import matplotlib.pyplot as plt\n",
    "import random\n",
    "from collections import Counter\n",
    "import math\n",
    "import scipy.stats as st\n",
    "import seaborn as sns"
   ]
  },
  {
   "cell_type": "markdown",
   "id": "99b6db7d",
   "metadata": {},
   "source": [
    "# Init Variables"
   ]
  },
  {
   "cell_type": "code",
   "execution_count": null,
   "id": "1104bcf3",
   "metadata": {},
   "outputs": [],
   "source": [
    "NODE_NUMBER = 100\n",
    "MAX_EDGE_NUMBER = (NODE_NUMBER) * (NODE_NUMBER - 1) / 2\n",
    "# er parameters:\n",
    "UPPER_EDGE_PROBABILITY = 0.06\n",
    "LOWER_EDGE_PROBABILITY = 0.02\n",
    "EDGE_PROBABILITY = 0.05\n",
    "EDGE_NUMBER = int(MAX_EDGE_NUMBER * EDGE_PROBABILITY)  # Approximately 0.05 of max possible edge number\n",
    "# rsrg parameters:\n",
    "UPPER_COPY_NUMBER_D1 = 15\n",
    "LOWER_COPY_NUMBER_D1 = 10\n",
    "LOWER_RSRG_P = 0.125\n",
    "LOWER_AVERAGE_D_RSRG = 2\n",
    "UPPER_AVERAGE_D_RSRG = 6\n",
    "RSRG_PROBABILITIES = [1, 0.75, 0.5, 0.25, 0.125]\n",
    "#rsrbg parameters:\n",
    "VALID_D_PAIRS_FOR_NODE_NUMBER = []\n",
    "for x in range(2, int(NODE_NUMBER / 4)):\n",
    "    y = x\n",
    "    while y < (NODE_NUMBER / 4):\n",
    "        if NODE_NUMBER % (x + y) == 0:\n",
    "            VALID_D_PAIRS_FOR_NODE_NUMBER.append((x, y))\n",
    "        y = y + 1\n",
    "\n",
    "GRAPH_NUMBER = 100\n",
    "plt.figure(figsize = (8,8)) #Specify the size of figure\n",
    "SIMULATION_NUMBER = 100\n",
    "COLOR = ['red', 'green', 'blue', 'gray', 'yellow', 'brown', 'black']"
   ]
  },
  {
   "cell_type": "markdown",
   "id": "a896ff32",
   "metadata": {},
   "source": [
    "# Functions"
   ]
  },
  {
   "cell_type": "markdown",
   "id": "9125d47d",
   "metadata": {},
   "source": [
    "### Eigvals"
   ]
  },
  {
   "cell_type": "markdown",
   "id": "8c6214c7",
   "metadata": {},
   "source": [
    "###### Adjacency"
   ]
  },
  {
   "cell_type": "code",
   "execution_count": null,
   "id": "a9276ea0",
   "metadata": {},
   "outputs": [],
   "source": [
    "def get_adjacency_eigvals(graph):\n",
    "    L = nx.adjacency_matrix(graph)\n",
    "    e = np.linalg.eigvals(L.toarray())\n",
    "    e = list(sorted(e))\n",
    "    return e"
   ]
  },
  {
   "cell_type": "markdown",
   "id": "68f46550",
   "metadata": {},
   "source": [
    "###### Laplacian"
   ]
  },
  {
   "cell_type": "code",
   "execution_count": null,
   "id": "ac3da15e",
   "metadata": {},
   "outputs": [],
   "source": [
    "def get_laplacian_evigal(graph): # Laplacian matrix\n",
    "    L = nx.laplacian_matrix(graph)\n",
    "    e = np.linalg.eigvals(L.toarray())\n",
    "    e = list(sorted(e))\n",
    "    return e"
   ]
  },
  {
   "cell_type": "markdown",
   "id": "f278a664",
   "metadata": {},
   "source": [
    "### Spectral Gap"
   ]
  },
  {
   "cell_type": "code",
   "execution_count": null,
   "id": "a909f3d4",
   "metadata": {},
   "outputs": [],
   "source": [
    "def get_spectral_gap(graph):\n",
    "    eigvals = get_adjacency_eigvals(graph)\n",
    "    max_index = len(eigvals) - 1\n",
    "    maximum = eigvals[max_index]\n",
    "    second_max = eigvals[max_index - 1]\n",
    "    diff = maximum - second_max\n",
    "    return diff"
   ]
  },
  {
   "cell_type": "markdown",
   "id": "76961211",
   "metadata": {},
   "source": [
    "### Algebraic Connectivity"
   ]
  },
  {
   "cell_type": "code",
   "execution_count": null,
   "id": "9629d344",
   "metadata": {},
   "outputs": [],
   "source": [
    "def get_algebraic_connectivity(graph):\n",
    "    return nx.algebraic_connectivity(graph)"
   ]
  },
  {
   "cell_type": "markdown",
   "id": "c599eba1",
   "metadata": {},
   "source": [
    "### check for connection with Algebraic Connectivity"
   ]
  },
  {
   "cell_type": "code",
   "execution_count": null,
   "id": "93d445ae",
   "metadata": {},
   "outputs": [],
   "source": [
    "def is_graph_connected(graph):\n",
    "    return get_algebraic_connectivity(graph) > 0"
   ]
  },
  {
   "cell_type": "markdown",
   "id": "58d4c7e5",
   "metadata": {},
   "source": [
    "### Trace Power S"
   ]
  },
  {
   "cell_type": "code",
   "execution_count": null,
   "id": "385b07e7",
   "metadata": {},
   "outputs": [],
   "source": [
    "def get_trace_power_s(graph, power=2): # number of walks with len s (power) in graph\n",
    "    eigvals = get_adjacency_eigvals(graph)\n",
    "    eigvals_powers = np.power(eigvals, power)\n",
    "    summation = np.sum(eigvals_powers)\n",
    "    return summation"
   ]
  },
  {
   "cell_type": "markdown",
   "id": "c1e710a5",
   "metadata": {},
   "source": [
    "### Phi s (Average Trace Power S)"
   ]
  },
  {
   "cell_type": "code",
   "execution_count": null,
   "id": "dade70de",
   "metadata": {},
   "outputs": [],
   "source": [
    "def get_phi_s(graph): # average number of walks with len s (power) in graph\n",
    "    eigvals = get_adjacency_eigvals(graph)\n",
    "    eigvals_powers = np.power(eigvals, power)\n",
    "    summation = np.sum(eigvals_powers)\n",
    "    avg = summation / len(eigvals)\n",
    "    return summation"
   ]
  },
  {
   "cell_type": "markdown",
   "id": "ec519697",
   "metadata": {},
   "source": [
    "### Centrality of Global Subgraph"
   ]
  },
  {
   "cell_type": "code",
   "execution_count": null,
   "id": "e5b8c640",
   "metadata": {},
   "outputs": [],
   "source": [
    "def get_centrality_of_global_subgraph(graph):\n",
    "    eigvals = get_adjacency_eigvals(graph)\n",
    "    summation = sum([math.exp(value) for value in eigvals])\n",
    "    return summation"
   ]
  },
  {
   "cell_type": "markdown",
   "id": "ca0c5321",
   "metadata": {},
   "source": [
    "### Average Eigvals"
   ]
  },
  {
   "cell_type": "code",
   "execution_count": null,
   "id": "e6b2c80a",
   "metadata": {},
   "outputs": [],
   "source": [
    "def get_average_eigvals(graph):\n",
    "    summation = get_centrality_of_global_subgraph(graph)\n",
    "    ln = math.log(summation)\n",
    "    return ln"
   ]
  },
  {
   "cell_type": "markdown",
   "id": "c256d303",
   "metadata": {},
   "source": [
    "## Automorphism"
   ]
  },
  {
   "cell_type": "code",
   "execution_count": null,
   "id": "0afbaf44",
   "metadata": {},
   "outputs": [],
   "source": [
    "def get_all_automorphism(graph): # automorphism is isomorphism for a graph with itself\n",
    "    dictionary = nx.vf2pp_all_isomorphisms(graph, graph)\n",
    "    return list(dictionary) # return a list of mapping (return a list of dictionary)"
   ]
  },
  {
   "cell_type": "markdown",
   "id": "da8cc40e",
   "metadata": {},
   "source": [
    "### Node Similarity (Vertex Transitivity)"
   ]
  },
  {
   "cell_type": "code",
   "execution_count": null,
   "id": "9b297d1a",
   "metadata": {},
   "outputs": [],
   "source": [
    "def is_node_similar(graph):\n",
    "    automorphisms = get_all_automorphism(graph)\n",
    "    for u,v in graph.edges:\n",
    "        if not any(auto[u] == v for auto in automorphisms):\n",
    "            return False\n",
    "    return True"
   ]
  },
  {
   "cell_type": "markdown",
   "id": "81728fc6",
   "metadata": {},
   "source": [
    "### Symmetry (Edge Transitivity)"
   ]
  },
  {
   "cell_type": "code",
   "execution_count": null,
   "id": "8748ef77",
   "metadata": {},
   "outputs": [],
   "source": [
    "def is_symmetry(graph):\n",
    "    automorphisms = get_all_automorphism(graph)\n",
    "    for u, v in graph.edges:\n",
    "        for x, y in graph.edges:\n",
    "            if not any(auto[u] == x and auto[v] ==y for auto in automorphisms):\n",
    "                return False\n",
    "    return True"
   ]
  },
  {
   "cell_type": "markdown",
   "id": "e867bac0",
   "metadata": {},
   "source": [
    "### Laplacian Energy"
   ]
  },
  {
   "cell_type": "code",
   "execution_count": null,
   "id": "81a6bc1c",
   "metadata": {},
   "outputs": [],
   "source": [
    "def get_laplacian_energy(graph):\n",
    "    if not nx.is_connected(graph):\n",
    "        raise Exception(\"Graph Must Be Connected\")\n",
    "    if nx.is_directed(graph):\n",
    "        raise Exception(\"Graph Must Be Undirected\")\n",
    "    eigenvalues = get_adjacency_eigvals(graph)\n",
    "    laplacian_energy = sum([abs(value) for value in eigenvalues])\n",
    "    return laplacian_energy"
   ]
  },
  {
   "cell_type": "code",
   "execution_count": null,
   "id": "67187de6",
   "metadata": {},
   "outputs": [],
   "source": [
    "def get_laplacian_energy2(graph):\n",
    "    if not nx.is_connected(graph):\n",
    "        raise Exception(\"Graph Must Be Connected\")\n",
    "    if nx.is_directed(graph):\n",
    "        raise Exception(\"Graph Must Be Undirected\")\n",
    "    eigenvalues = get_adjacency_eigvals(graph)\n",
    "    summation = sum([value if value > 0 else 0 for value in eigenvalues])\n",
    "    laplacian_energy = summation * 2\n",
    "    return laplacian_energy"
   ]
  },
  {
   "cell_type": "code",
   "execution_count": null,
   "id": "702e0bf4",
   "metadata": {},
   "outputs": [],
   "source": [
    "def get_laplacian_energy3(graph):\n",
    "    if not nx.is_connected(graph):\n",
    "        raise Exception(\"Graph Must Be Connected\")\n",
    "    if nx.is_directed(graph):\n",
    "        raise Exception(\"Graph Must Be Undirected\")\n",
    "    eigenvalues = get_laplacian_evigal(graph)\n",
    "    n = graph.number_of_nodes()\n",
    "    m = graph.number_of_edges()\n",
    "    constant = (2 * m) / n\n",
    "    laplacian_energy = sum([abs(value - constant) for value in eigenvalues])\n",
    "    return laplacian_energy"
   ]
  },
  {
   "cell_type": "markdown",
   "id": "04fed769",
   "metadata": {},
   "source": [
    "### Plotting Graphs"
   ]
  },
  {
   "cell_type": "code",
   "execution_count": null,
   "id": "2d7a1a0b",
   "metadata": {},
   "outputs": [],
   "source": [
    "def show_graph(graph, path=None, labels=False):\n",
    "    pos = nx.circular_layout(graph)\n",
    "    plt.figure(figsize = (12, 12))\n",
    "    nx.draw_networkx(graph, pos, with_labels=labels)\n",
    "    if path != None:\n",
    "        plt.savefig(path+'.png')\n",
    "    plt.show()"
   ]
  },
  {
   "cell_type": "markdown",
   "id": "4323171b",
   "metadata": {},
   "source": [
    "### Degree Distribution"
   ]
  },
  {
   "cell_type": "code",
   "execution_count": null,
   "id": "52e483f1",
   "metadata": {},
   "outputs": [],
   "source": [
    "def degree_distribution(graph, path=None, style='-o'):\n",
    "    degrees = [graph.degree(n) for n in graph.nodes()]\n",
    "    degrees = list(sorted(degrees))\n",
    "    degree_freq_dic = Counter(degrees)\n",
    "    x_axis = degree_freq_dic.keys()\n",
    "    y_axis = degree_freq_dic.values()\n",
    "    y_axis = np.array(list(y_axis)) / len(degrees)\n",
    "    \n",
    "    plt.title('Degree Distribution')\n",
    "    plt.xlabel(\"Degree\")\n",
    "    plt.ylabel(\"Frequesncy\")\n",
    "    plt.plot(x_axis, y_axis, style, label='degree probability')\n",
    "    \n",
    "    upper_y = np.array([0, max(y_axis)])\n",
    "    avg = np.average(degrees)\n",
    "    upper_x = np.array([avg, avg])\n",
    "    plt.plot(upper_x, upper_y, color='red', linestyle='-.', label='mean')\n",
    "    plt.legend(loc='best') # setting best location for labels\n",
    "    \n",
    "    if path != None:\n",
    "        plt.savefig(path+'.png')\n",
    "    plt.show()"
   ]
  },
  {
   "cell_type": "markdown",
   "id": "8fdd4b30",
   "metadata": {},
   "source": [
    "### Double-Log"
   ]
  },
  {
   "cell_type": "code",
   "execution_count": null,
   "id": "2985305f",
   "metadata": {},
   "outputs": [],
   "source": [
    "def double_log(graph, path=None, style='-o'):\n",
    "    degrees = [graph.degree(n) for n in graph.nodes()]\n",
    "    degrees = list(sorted(degrees))\n",
    "    degree_freq_dic = Counter(degrees)\n",
    "    unique_degrees = list(degree_freq_dic.keys())\n",
    "    frequency = list(degree_freq_dic.values())\n",
    "    x_axis = np.log(unique_degrees)\n",
    "    y_axis = np.log(frequency)\n",
    "    y_axis = np.array(list(y_axis)) / len(degrees)\n",
    "    plt.xlabel(\"Degree\")\n",
    "    plt.ylabel(\"Degree Distribution\")\n",
    "    plt.title('Double Log')\n",
    "    plt.plot(x_axis, y_axis, style, label='degree distribution')\n",
    "    if path != None:\n",
    "        plt.savefig(path+'.png')\n",
    "    plt.show()"
   ]
  },
  {
   "cell_type": "markdown",
   "id": "5c1c17a5",
   "metadata": {},
   "source": [
    "## Comparing Plots"
   ]
  },
  {
   "cell_type": "code",
   "execution_count": null,
   "id": "404e0974",
   "metadata": {},
   "outputs": [],
   "source": [
    "def compare_datas(datas, labels, x_label='', y_label='', title='', style='-o', color=COLOR, path=None):\n",
    "    plt.xlabel(x_label)\n",
    "    plt.ylabel(y_label)\n",
    "    plt.title(title)\n",
    "    for i in range(len(datas)):\n",
    "        x_axis = list(range(len(datas[i])))\n",
    "        plt.plot(x_axis, datas[i], style, label=labels[i], color=color[i])\n",
    "    if path != None:\n",
    "        plt.savefig(path+'.png')\n",
    "    plt.legend(loc='best')\n",
    "    plt.show()"
   ]
  },
  {
   "cell_type": "markdown",
   "id": "b34e69dc",
   "metadata": {},
   "source": [
    "# PDF"
   ]
  },
  {
   "cell_type": "code",
   "execution_count": null,
   "id": "7744811c",
   "metadata": {},
   "outputs": [],
   "source": [
    "def draw_pdf(data, x_label='data number', y_label='value', title='pdf function', style='-o', color=COLOR, path=None):\n",
    "    data = np.array(list(sorted(data)))\n",
    "    mean = np.mean(data)\n",
    "    std = np.std(data)\n",
    "    pdf = st.norm.pdf(data, mean, std)\n",
    "    \n",
    "    plt.xlabel(x_label)\n",
    "    plt.ylabel(y_label)\n",
    "    plt.title(title)\n",
    "    plt.plot(data, pdf, style)\n",
    "    plt.legend(loc='best')\n",
    "    if path != None:\n",
    "        plt.savefig(path+'.png')\n",
    "    plt.show()"
   ]
  },
  {
   "cell_type": "code",
   "execution_count": null,
   "id": "4d840a87",
   "metadata": {},
   "outputs": [],
   "source": [
    "def draw_pdf2(data, x_label='data number', y_label='value', title='pdf function', style='-o', color=COLOR, path=None):\n",
    "    plt.figure(figsize = (5,5))\n",
    "    sns.kdeplot(data , bw = 0.5 , fill = True)\n",
    "    \n",
    "    plt.xlabel(x_label)\n",
    "    plt.ylabel(y_label)\n",
    "    plt.title(title)\n",
    "    if path != None:\n",
    "        plt.savefig(path+'.png')\n",
    "    plt.show()"
   ]
  },
  {
   "cell_type": "code",
   "execution_count": null,
   "id": "dbd51602",
   "metadata": {},
   "outputs": [],
   "source": [
    "def draw_pdf3(data, x_label='data number', y_label='value', title='pdf function', style='-o', color=COLOR, path=None):\n",
    "    sns.set_style(\"whitegrid\")  # Setting style(Optional)\n",
    "    sns.distplot(x=data, bins=10, kde=True, color='teal', kde_kws=dict(linewidth=4, color='green')) #kde for normal distribution\n",
    "    \n",
    "    plt.xlabel(x_label)\n",
    "    plt.ylabel(y_label)\n",
    "    plt.title(title)\n",
    "    if path != None:\n",
    "        plt.savefig(path+'.png')\n",
    "    plt.show()"
   ]
  },
  {
   "cell_type": "markdown",
   "id": "1b2d88c2",
   "metadata": {},
   "source": [
    "## Data Details"
   ]
  },
  {
   "cell_type": "markdown",
   "id": "dc5b3372",
   "metadata": {},
   "source": [
    "### c.i plots"
   ]
  },
  {
   "cell_type": "code",
   "execution_count": null,
   "id": "253e5165",
   "metadata": {},
   "outputs": [],
   "source": [
    "def coefficient_interval_plot(data, path=None, alpha=0.95):\n",
    "    x = np.array([i for i in range(len(data))])\n",
    "    y = np.array(data)\n",
    "    # plotting\n",
    "    plt.plot(y, x,'o', color='blue', label='data')\n",
    "    \n",
    "    # confidence intervals\n",
    "    p = ((1.0-alpha)/2.0) * 100\n",
    "    # percentile function returns the numbers which that percent of \n",
    "    # the array elements areless equal then that number\n",
    "    lower =  np.percentile(y, p) \n",
    "    p = (alpha+((1.0-alpha)/2.0)) * 100\n",
    "    upper =  np.percentile(y, p)\n",
    "#     print(f\"\\n{alpha*100} confidence interval {lower} and {upper}\")\n",
    "    \n",
    "    # c.i upper & lower\n",
    "    upper_y = np.array([0, len(data)])\n",
    "    upper_x = np.array([upper, upper])\n",
    "    plt.plot(upper_x, upper_y, color='red', linestyle='-.', label='upper c.i')\n",
    "    \n",
    "    lower_y = np.array([0, len(data)])\n",
    "    lower_x = np.array([lower, lower])\n",
    "    plt.plot(lower_x, lower_y, color='orange', linestyle='-.', label='lower c.i')\n",
    "    \n",
    "    ci_x = np.array([lower, upper])\n",
    "    ci_y = np.array([0, 0])\n",
    "    plt.plot(ci_x, ci_y, '-', color='green', label='c.i')\n",
    "    plt.legend(loc='best')\n",
    "    if path != None:\n",
    "        plt.savefig(path+'.png')\n",
    "    plt.show()"
   ]
  },
  {
   "cell_type": "code",
   "execution_count": null,
   "id": "01652f14",
   "metadata": {},
   "outputs": [],
   "source": [
    "def coefficient_interval_plot2(data, path=None, alpha=0.95):\n",
    "    x = np.array(list(range(len(data))))\n",
    "    y = np.array(data)\n",
    "    # Plotting data\n",
    "    plt.plot(x, y, '-o', color='red', label='data')\n",
    "    \n",
    "    # confidence intervals\n",
    "    ci = (1.0-alpha) * np.std(y) / np.mean(y)\n",
    "    mean = np.mean(y)\n",
    "    avg = [mean for i in range(len(data))]\n",
    "    \n",
    "    # Plot the confidence interval\n",
    "    plt.fill_between(x, (avg-ci), (avg+ci), color='blue', alpha=0.1)\n",
    "    plt.plot(x, (avg-ci), '--', color='blue', label='-*ci')\n",
    "    plt.plot(x, (avg+ci), '--', color='blue', label='+*ci')\n",
    "    plt.fill_between(x, (avg-2*ci), (avg+2*ci), color='green', alpha=.1)\n",
    "    plt.plot(x, (avg-2*ci), '--', color='green', label='-2*ci')\n",
    "    plt.plot(x, (avg+2*ci), '--', color='green', label='+2*ci')\n",
    "    plt.legend(loc='best')\n",
    "    if path != None:\n",
    "        plt.savefig(path+'.png')\n",
    "    plt.show()"
   ]
  },
  {
   "cell_type": "code",
   "execution_count": null,
   "id": "34b9147f",
   "metadata": {},
   "outputs": [],
   "source": [
    "def coefficient_interval_plot3(data, path=None, alpha=0.95):\n",
    "    x = np.array(list(range(len(data))))\n",
    "    y = np.array(data)\n",
    "    # Plotting data\n",
    "    plt.plot(x, y, '-o', color='red', label='data')\n",
    "    \n",
    "    # Define the confidence interval\n",
    "    ci = (1.0-alpha) * np.std(y) / np.mean(y)\n",
    "    \n",
    "    # Plot the confidence interval\n",
    "    plt.fill_between(x, (y-ci), (y+ci), color='blue', alpha=0.1)\n",
    "    plt.plot(x, (y-2*ci), '--', color='blue', label='-*ci')\n",
    "    plt.plot(x, (y+2*ci), '--', color='blue', label='+*ci')\n",
    "    plt.fill_between(x, (y-2*ci), (y+2*ci), color='green', alpha=.1)\n",
    "    plt.plot(x, (y-2*ci), '--', color='green', label='-2*ci')\n",
    "    plt.plot(x, (y+2*ci), '--', color='green', label='+2*ci')\n",
    "    plt.legend(loc='best')\n",
    "    if path != None:\n",
    "        plt.savefig(path+'.png')\n",
    "    plt.show()"
   ]
  },
  {
   "cell_type": "code",
   "execution_count": null,
   "id": "c30d6fd7",
   "metadata": {},
   "outputs": [],
   "source": [
    "def coefficient_interval_plot4(data, path=None):\n",
    "    x = np.array(list(range(len(data))))\n",
    "    y = np.array(data)\n",
    "    y.astype('float64')\n",
    "                 \n",
    "    # Plotting data\n",
    "    plt.plot(x, y, '-o', color='red', label='data')\n",
    "    \n",
    "    low, high = st.norm.interval(alpha=0.9, loc=np.mean(data), scale=st.sem(data))\n",
    "    low2, high2 = st.norm.interval(alpha=0.95, loc=np.mean(data), scale=st.sem(data))\n",
    "    low3, high3 = st.norm.interval(alpha=0.99, loc=np.mean(data), scale=st.sem(data))\n",
    "    \n",
    "    # Plot the confidence interval\n",
    "    plt.fill_between(x, [low3 for i in x], [high3 for i in x], color='green', alpha=0.1)\n",
    "    plt.plot(x, [low3 for i in x], '--', color='green', label='alpha=0.99')\n",
    "    plt.plot(x, [high3 for i in x], '--', color='green')\n",
    "    \n",
    "    plt.fill_between(x, [low2 for i in x], [high2 for i in x], color='orange', alpha=0.1)\n",
    "    plt.plot(x, [low2 for i in x], '--', color='orange', label='0.95')\n",
    "    plt.plot(x, [high2 for i in x], '--', color='orange')\n",
    "    \n",
    "    plt.fill_between(x, [low for i in x], [high for i in x], color='blue', alpha=0.1)\n",
    "    plt.plot(x, [low for i in x], '--', color='blue', label='0.9')\n",
    "    plt.plot(x, [high for i in x], '--', color='blue')\n",
    "    plt.legend(loc='best')\n",
    "    if path != None:\n",
    "        plt.savefig(path+'.png')\n",
    "    plt.show()"
   ]
  },
  {
   "cell_type": "code",
   "execution_count": null,
   "id": "67788bdc",
   "metadata": {},
   "outputs": [],
   "source": [
    "def coefficient_interval_plot5(data, path=None):\n",
    "    x = np.array(list(range(len(data))))\n",
    "    y = np.array(data)\n",
    "    y.astype('float64')\n",
    "                 \n",
    "    # Plotting data\n",
    "    plt.plot(x, y, '-o', color='red', label='data')\n",
    "    \n",
    "    # Plot the confidence interval\n",
    "    alpha = 0.99\n",
    "    p = ((1.0-alpha)/2.0) * 100\n",
    "    # percentile function returns the numbers which that percent of \n",
    "    # the array elements areless equal then that number\n",
    "    lower =  np.percentile(y, p) \n",
    "    p = (alpha+((1.0-alpha)/2.0)) * 100\n",
    "    upper =  np.percentile(y, p)\n",
    "    \n",
    "    plt.fill_between(x, [lower for i in x], [upper for i in x], color='green', alpha=0.1)\n",
    "    plt.plot(x, [lower for i in x], '--', color='green', label='alpha=0.99')\n",
    "    plt.plot(x, [upper for i in x], '--', color='green')\n",
    "    \n",
    "    alpha = 0.95\n",
    "    p = ((1.0-alpha)/2.0) * 100\n",
    "    # percentile function returns the numbers which that percent of \n",
    "    # the array elements areless equal then that number\n",
    "    lower =  np.percentile(y, p) \n",
    "    p = (alpha+((1.0-alpha)/2.0)) * 100\n",
    "    upper =  np.percentile(y, p)\n",
    "    \n",
    "    plt.fill_between(x, [lower for i in x], [upper for i in x], color='orange', alpha=0.1)\n",
    "    plt.plot(x, [lower for i in x], '--', color='orange', label='0.95')\n",
    "    plt.plot(x, [upper for i in x], '--', color='orange')\n",
    "    \n",
    "    alpha = 0.9\n",
    "    p = ((1.0-alpha)/2.0) * 100\n",
    "    # percentile function returns the numbers which that percent of \n",
    "    # the array elements areless equal then that number\n",
    "    lower =  np.percentile(y, p) \n",
    "    p = (alpha+((1.0-alpha)/2.0)) * 100\n",
    "    upper =  np.percentile(y, p)\n",
    "    \n",
    "    plt.fill_between(x, [lower for i in x], [upper for i in x], color='blue', alpha=0.1)\n",
    "    plt.plot(x, [lower for i in x], '--', color='blue', label='0.9')\n",
    "    plt.plot(x, [upper for i in x], '--', color='blue')\n",
    "    plt.legend(loc='best')\n",
    "    if path != None:\n",
    "        plt.savefig(path+'.png')\n",
    "    plt.show()"
   ]
  },
  {
   "cell_type": "markdown",
   "id": "d3a6ffc2",
   "metadata": {},
   "source": [
    "### Mean & Variance"
   ]
  },
  {
   "cell_type": "code",
   "execution_count": null,
   "id": "c2904f1c",
   "metadata": {},
   "outputs": [],
   "source": [
    "def get_details(data):\n",
    "    print('mean: ', np.mean(data))\n",
    "    print('variance: ', np.var(data))\n",
    "    print('std: ', np.std)"
   ]
  },
  {
   "cell_type": "markdown",
   "id": "b09b49fa",
   "metadata": {},
   "source": [
    "# Random Semi Regular Bipartite Graph (RSRBG)"
   ]
  },
  {
   "cell_type": "code",
   "execution_count": null,
   "id": "c70b5a85",
   "metadata": {},
   "outputs": [],
   "source": [
    "def rewire_edge_rsrbg(graph, node1, node2):\n",
    "    for u, v in graph.edges:\n",
    "        n1_node = min([u, v])\n",
    "        n2_node = max([u, v])\n",
    "        if n1_node != node1 and n2_node != node2 and (not graph.has_edge(n1_node, node2)) and (not graph.has_edge(node1, n2_node)):\n",
    "            graph.remove_edge(u, v)\n",
    "            graph.add_edge(n1_node, node2)\n",
    "            graph.add_edge(node1, n2_node)\n",
    "            break\n",
    "\n",
    "\n",
    "\n",
    "def generate_rsrbg(d1, d2, n, seed=None):\n",
    "    if (n * d2) % (d1 + d2) != 0:\n",
    "        raise Exception(f\"can't make graph with {n} nodes!\")\n",
    "        \n",
    "    if seed != None:\n",
    "        random.seed(seed)\n",
    "    \n",
    "    n1 = int((n * d2) / (d1 + d2))\n",
    "    n2 = n - n1\n",
    "    \n",
    "    graph = nx.Graph()\n",
    "    graph.add_nodes_from(list(range(n)))\n",
    "    \n",
    "    n1_stubs = list(range(n1)) * d1\n",
    "    n2_stubs = list(range(n1, n)) * d2\n",
    "    \n",
    "    while len(n1_stubs) > 0:\n",
    "        rnd1 = random.randint(0, len(n1_stubs) - 1)\n",
    "        rnd2 = random.randint(0, len(n2_stubs) - 1)\n",
    "        if graph.has_edge(n1_stubs[rnd1], n2_stubs[rnd2]):\n",
    "            continue\n",
    "        graph.add_edge(n1_stubs[rnd1], n2_stubs[rnd2])\n",
    "        n1_stubs.pop(rnd1)\n",
    "        n2_stubs.pop(rnd2)\n",
    "        \n",
    "        has_chance = False\n",
    "        for s1 in n1_stubs:\n",
    "            for s2 in n2_stubs:\n",
    "                if not graph.has_edge(s1, s2):\n",
    "                    has_chance = True\n",
    "                    break\n",
    "            if has_chance:\n",
    "                break;\n",
    "        \n",
    "        if not has_chance: # we can't continue and add anymore edge\n",
    "            for i in range(len(n1_stubs)):\n",
    "                rewire_edge_rsrbg(graph, n1_stubs[i], n2_stubs[i])\n",
    "            break\n",
    "        \n",
    "    return graph"
   ]
  },
  {
   "cell_type": "markdown",
   "id": "0d37455d",
   "metadata": {},
   "source": [
    "# Random Semi Regular Graph(RSRG)"
   ]
  },
  {
   "cell_type": "code",
   "execution_count": null,
   "id": "34c468c8",
   "metadata": {},
   "outputs": [],
   "source": [
    "def rewire_edge_rsrg(graph, node1, node2):\n",
    "    for u, v in graph.edges:\n",
    "        if not any(i in [u, v] for i in [node1, node2]): #node1 and node2 are completely different from u and v (no same value))\n",
    "            if (not graph.has_edge(u, node1)) and (not graph.has_edge(node2, v)):\n",
    "                graph.add_edge(u, node1)\n",
    "                graph.add_edge(v, node2)\n",
    "                break\n",
    "            elif (not graph.has_edge(v, node1)) and (not graph.has_edge(node2, u)):\n",
    "                graph.add_edge(v, node1)\n",
    "                graph.add_edge(u, node2)\n",
    "                break\n",
    "\n",
    "\n",
    "def should_add_edge(p):\n",
    "    if random.random() <= p:\n",
    "        return True\n",
    "    return False\n",
    "\n",
    "\n",
    "def generate_rsrg(p, d1, d2, n, seed=None):\n",
    "    if p < 0 or p > 1:\n",
    "        raise Exception(\"p must be between 0 and 1\")\n",
    "    \n",
    "    if seed != None:\n",
    "        random.seed(seed)\n",
    "    \n",
    "    n1 = math.floor(n * (1 - p))\n",
    "    n2 = n - n1\n",
    "    \n",
    "    n1_stubs = list(range(n1)) * d1\n",
    "    n2_stubs = list(range(n1, n)) * d2\n",
    "    stubs = n1_stubs + n2_stubs\n",
    "    \n",
    "    graph = nx.Graph()\n",
    "    graph.add_nodes_from(list(range(n)))\n",
    "    \n",
    "    while len(stubs) > 1:\n",
    "        if len(stubs) == 2:\n",
    "            if graph.has_edge(stubs[0], stubs[1]) or stubs[0] == stubs[1]:\n",
    "                if should_add_edge(p):\n",
    "                    rewire_edge_rsrg(graph, stubs[0], stubs[1])\n",
    "            else:\n",
    "                if should_add_edge(p):\n",
    "                    graph.add_edge(stubs[0], stubs[1])\n",
    "            break\n",
    "        else:\n",
    "            rnd = random.randint(0, len(stubs) - 1)\n",
    "            node1 = stubs[rnd]\n",
    "            stubs.pop(rnd)\n",
    "            rnd = random.randint(0, len(stubs) - 1)\n",
    "            node2 = stubs[rnd]\n",
    "            stubs.pop(rnd)\n",
    "            if node1 == node2 or graph.has_edge(node1, node2):\n",
    "                stubs.append(node1)\n",
    "                stubs.append(node2)\n",
    "            else:\n",
    "                if should_add_edge(p):\n",
    "                    graph.add_edge(node1, node2)\n",
    "            \n",
    "            has_chance = False\n",
    "            for i in range(len(stubs)):\n",
    "                j = i\n",
    "                while(j < len(stubs)):\n",
    "                    if stubs[i] != stubs[j] and (not graph.has_edge(stubs[i], stubs[j])):\n",
    "                        has_chance = True\n",
    "                    j = j + 1\n",
    "                if has_chance: # we still can continue\n",
    "                    break\n",
    "            \n",
    "            if not has_chance: # we can't continue and add anymore edge\n",
    "                break\n",
    "            \n",
    "    \n",
    "    return graph"
   ]
  },
  {
   "cell_type": "markdown",
   "id": "5cfdf8f6",
   "metadata": {},
   "source": [
    "# Making Graphs"
   ]
  },
  {
   "cell_type": "markdown",
   "id": "15cea6eb",
   "metadata": {},
   "source": [
    "### RSRBG"
   ]
  },
  {
   "cell_type": "code",
   "execution_count": null,
   "id": "dfb174fd",
   "metadata": {
    "scrolled": true
   },
   "outputs": [],
   "source": [
    "seed_values = random.sample(range(1, 100000), GRAPH_NUMBER) # generating GRAPH_NUMBER unique random number to be used as seed\n",
    "rsrbgs = []\n",
    "for i in range(GRAPH_NUMBER):\n",
    "    d1, d2 = random.choice(VALID_D_PAIRS_FOR_NODE_NUMBER)\n",
    "    rsrbgs.append(generate_rsrbg(d1, d2, NODE_NUMBER))\n",
    "    average_d = (2 * d1 * d2) / (d1 + d2)"
   ]
  },
  {
   "cell_type": "code",
   "execution_count": null,
   "id": "378983c9",
   "metadata": {},
   "outputs": [],
   "source": [
    "for graph in rsrbgs:\n",
    "    show_graph(graph, labels=True)\n"
   ]
  },
  {
   "cell_type": "code",
   "execution_count": null,
   "id": "7cbf34d2",
   "metadata": {},
   "outputs": [],
   "source": [
    "for graph in rsrbgs:\n",
    "    degree_distribution(graph)"
   ]
  },
  {
   "cell_type": "markdown",
   "id": "8016b68b",
   "metadata": {},
   "source": [
    "### RSRG"
   ]
  },
  {
   "cell_type": "code",
   "execution_count": null,
   "id": "c6cfdc5e",
   "metadata": {
    "scrolled": true
   },
   "outputs": [],
   "source": [
    "seed_values = random.sample(range(1, 34098),GRAPH_NUMBER)\n",
    "\n",
    "rsrgs = []\n",
    "probability_of_rsrg = []\n",
    "d1_of_rsrg = []\n",
    "d2_of_rsrg = []\n",
    "for i in range(GRAPH_NUMBER):\n",
    "    average_d = 0\n",
    "    p = 0\n",
    "    d1 = 0\n",
    "    d2 = 0\n",
    "    n = 0\n",
    "    while average_d < LOWER_AVERAGE_D_RSRG or average_d > UPPER_AVERAGE_D_RSRG or p < LOWER_RSRG_P:\n",
    "        p = random.random()\n",
    "        d1 = random.randint(LOWER_COPY_NUMBER_D1, UPPER_COPY_NUMBER_D1)\n",
    "        d2 = random.randint(LOWER_COPY_NUMBER_D1, UPPER_COPY_NUMBER_D1)\n",
    "        n = NODE_NUMBER\n",
    "        average_d = (d1 * (1 - p) + p * d2) * p\n",
    "    \n",
    "    \n",
    "    rsrgs.append(generate_rsrg(p, d1, d2, n, seed=seed_values[i]))\n",
    "    print(f'p: {p}, d1: {d1}, d2: {d2}, <d>: {average_d}')\n",
    "    probability_of_rsrg.append(p)\n",
    "    d1_of_rsrg.append(d1)\n",
    "    d2_of_rsrg.append(d2)"
   ]
  },
  {
   "cell_type": "code",
   "execution_count": null,
   "id": "0cabb218",
   "metadata": {},
   "outputs": [],
   "source": [
    "for graph in rsrgs:\n",
    "    show_graph(graph, labels=True)"
   ]
  },
  {
   "cell_type": "code",
   "execution_count": null,
   "id": "2acc72c9",
   "metadata": {
    "scrolled": true
   },
   "outputs": [],
   "source": [
    "for i in range(len(rsrgs)):\n",
    "    p = probability_of_rsrg[i]\n",
    "    d1 = d1_of_rsrg[i]\n",
    "    d2 = d2_of_rsrg[i]\n",
    "    average_d = (d1 * (1 - p) + p * d2) * p\n",
    "    print('<d>:', average_d)\n",
    "    degree_distribution(rsrgs[i])"
   ]
  },
  {
   "cell_type": "markdown",
   "id": "47058109",
   "metadata": {},
   "source": [
    "### ER"
   ]
  },
  {
   "cell_type": "code",
   "execution_count": null,
   "id": "74c5c05b",
   "metadata": {
    "scrolled": true
   },
   "outputs": [],
   "source": [
    "er_seed_values = random.sample(range(1, 100000), GRAPH_NUMBER) # generating GRAPH_NUMBER unique random number to be used as seed\n",
    "\n",
    "randoms = []\n",
    "for i in range(GRAPH_NUMBER):\n",
    "    print('graph no: ', i)\n",
    "    graph = nx.erdos_renyi_graph(NODE_NUMBER, EDGE_PROBABILITY, seed=er_seed_values[i])\n",
    "    randoms.append(graph)"
   ]
  },
  {
   "cell_type": "code",
   "execution_count": null,
   "id": "ff4960b7",
   "metadata": {},
   "outputs": [],
   "source": [
    "for graph in randoms:\n",
    "    show_graph(graph, labels=True)"
   ]
  },
  {
   "cell_type": "code",
   "execution_count": null,
   "id": "a79a1e69",
   "metadata": {},
   "outputs": [],
   "source": [
    "for graph in randoms:\n",
    "    degree_distribution(graph)"
   ]
  },
  {
   "cell_type": "markdown",
   "id": "f0c614c1",
   "metadata": {},
   "source": [
    "# Algebraic Connectivity"
   ]
  },
  {
   "cell_type": "markdown",
   "id": "e06fe87e",
   "metadata": {},
   "source": [
    "###### RSRBG"
   ]
  },
  {
   "cell_type": "code",
   "execution_count": null,
   "id": "a2edbb75",
   "metadata": {
    "scrolled": true
   },
   "outputs": [],
   "source": [
    "rsrbg_ac = []\n",
    "i = 0\n",
    "for graph in rsrbgs:\n",
    "    rsrbg_ac.append(get_algebraic_connectivity(graph))\n",
    "    print(i)\n",
    "    i = i + 1\n",
    "\n",
    "get_details(rsrbg_ac)\n",
    "coefficient_interval_plot(rsrbg_ac)\n",
    "coefficient_interval_plot2(rsrbg_ac)\n",
    "coefficient_interval_plot3(rsrbg_ac)\n",
    "coefficient_interval_plot4(rsrbg_ac)\n",
    "coefficient_interval_plot5(rsrbg_ac)"
   ]
  },
  {
   "cell_type": "markdown",
   "id": "f5a021be",
   "metadata": {},
   "source": [
    "###### RSRG"
   ]
  },
  {
   "cell_type": "code",
   "execution_count": null,
   "id": "da098752",
   "metadata": {},
   "outputs": [],
   "source": [
    "rsrg_ac = []\n",
    "for graph in rsrgs:\n",
    "    rsrg_ac.append(get_algebraic_connectivity(graph))\n",
    "\n",
    "get_details(rsrg_ac)\n",
    "coefficient_interval_plot(rsrg_ac)\n",
    "coefficient_interval_plot2(rsrg_ac)\n",
    "coefficient_interval_plot3(rsrg_ac)\n",
    "coefficient_interval_plot4(rsrg_ac)\n",
    "coefficient_interval_plot5(rsrg_ac)"
   ]
  },
  {
   "cell_type": "markdown",
   "id": "793761d5",
   "metadata": {},
   "source": [
    "###### ER"
   ]
  },
  {
   "cell_type": "code",
   "execution_count": null,
   "id": "f53ba49a",
   "metadata": {},
   "outputs": [],
   "source": [
    "random_ac = []\n",
    "for graph in randoms:\n",
    "    random_ac.append(get_algebraic_connectivity(graph))\n",
    "\n",
    "get_details(random_ac)\n",
    "coefficient_interval_plot(random_ac)\n",
    "coefficient_interval_plot2(random_ac)\n",
    "coefficient_interval_plot3(random_ac)\n",
    "coefficient_interval_plot4(random_ac)\n",
    "coefficient_interval_plot5(random_ac)"
   ]
  },
  {
   "cell_type": "markdown",
   "id": "9e01e11b",
   "metadata": {},
   "source": [
    "### Compare"
   ]
  },
  {
   "cell_type": "code",
   "execution_count": null,
   "id": "bdb8efcc",
   "metadata": {},
   "outputs": [],
   "source": [
    "datas = [rsrbg_ac, rsrg_ac, random_ac]\n",
    "labels = ['rsrbg', 'rsrg', 'er']\n",
    "x_label = 'graph number'\n",
    "y_label = 'algebraic connectivity'\n",
    "title = 'comparing algebraic connectivity of graphs'\n",
    "compare_datas(datas, labels, x_label=x_label, y_label=y_label, title=title)"
   ]
  },
  {
   "cell_type": "markdown",
   "id": "44a819ed",
   "metadata": {},
   "source": [
    "# Spectral Gap"
   ]
  },
  {
   "cell_type": "markdown",
   "id": "20cc3937",
   "metadata": {},
   "source": [
    "###### RSRBG"
   ]
  },
  {
   "cell_type": "code",
   "execution_count": null,
   "id": "436be636",
   "metadata": {},
   "outputs": [],
   "source": [
    "rsrbg_sg = []\n",
    "for graph in rsrbgs:\n",
    "    rsrbg_sg.append(get_spectral_gap(graph))\n",
    "\n",
    "get_details(rsrbg_sg)\n",
    "coefficient_interval_plot(rsrbg_sg)\n",
    "coefficient_interval_plot2(rsrbg_sg)\n",
    "coefficient_interval_plot3(rsrbg_sg)\n",
    "try:\n",
    "    coefficient_interval_plot4(rsrbg_sg)\n",
    "except:\n",
    "    plt.show()\n",
    "coefficient_interval_plot5(rsrbg_sg)"
   ]
  },
  {
   "cell_type": "markdown",
   "id": "4dc54949",
   "metadata": {},
   "source": [
    "###### RSRG"
   ]
  },
  {
   "cell_type": "code",
   "execution_count": null,
   "id": "6d997377",
   "metadata": {},
   "outputs": [],
   "source": [
    "rsrg_sg = []\n",
    "for graph in rsrgs:\n",
    "    rsrg_sg.append(get_spectral_gap(graph))\n",
    "\n",
    "get_details(rsrg_sg)\n",
    "coefficient_interval_plot(rsrg_sg)\n",
    "coefficient_interval_plot2(rsrg_sg)\n",
    "coefficient_interval_plot3(rsrg_sg)\n",
    "try:\n",
    "    coefficient_interval_plot4(rsrg_sg)\n",
    "except:\n",
    "    plt.show()\n",
    "coefficient_interval_plot5(rsrg_sg)"
   ]
  },
  {
   "cell_type": "markdown",
   "id": "aabf936e",
   "metadata": {},
   "source": [
    "###### ER"
   ]
  },
  {
   "cell_type": "code",
   "execution_count": null,
   "id": "d4a8301e",
   "metadata": {},
   "outputs": [],
   "source": [
    "random_sg = []\n",
    "for graph in randoms:\n",
    "    random_sg.append(get_spectral_gap(graph))\n",
    "\n",
    "get_details(random_sg)\n",
    "coefficient_interval_plot(random_sg)\n",
    "coefficient_interval_plot2(random_sg)\n",
    "coefficient_interval_plot3(random_sg)\n",
    "try:\n",
    "    coefficient_interval_plot4(random_sg)\n",
    "except:\n",
    "    plt.show()\n",
    "coefficient_interval_plot5(random_sg)"
   ]
  },
  {
   "cell_type": "markdown",
   "id": "8e19704d",
   "metadata": {},
   "source": [
    "### Compare"
   ]
  },
  {
   "cell_type": "code",
   "execution_count": null,
   "id": "d2a5ee56",
   "metadata": {},
   "outputs": [],
   "source": [
    "datas = [rsrbg_sg, rsrg_sg, random_sg]\n",
    "labels = ['rsrbg', 'rsrg', 'er']\n",
    "x_label = 'graph number'\n",
    "y_label = 'spectral gap'\n",
    "title = 'comparing spectral gap of graphs'\n",
    "compare_datas(datas, labels, x_label=x_label, y_label=y_label, title=title)"
   ]
  },
  {
   "cell_type": "markdown",
   "id": "952a661c",
   "metadata": {},
   "source": [
    "# Centrality Of Global Subgraph"
   ]
  },
  {
   "cell_type": "markdown",
   "id": "f65256fd",
   "metadata": {},
   "source": [
    "###### RSRBG"
   ]
  },
  {
   "cell_type": "code",
   "execution_count": null,
   "id": "663ab47e",
   "metadata": {},
   "outputs": [],
   "source": [
    "rsrbg_cgs = []\n",
    "for graph in rsrbgs:\n",
    "    rsrbg_cgs.append(get_centrality_of_global_subgraph(graph))\n",
    "\n",
    "get_details(rsrbg_cgs)\n",
    "coefficient_interval_plot(rsrbg_cgs)\n",
    "coefficient_interval_plot2(rsrbg_cgs)\n",
    "coefficient_interval_plot3(rsrbg_cgs)\n",
    "coefficient_interval_plot4(rsrbg_cgs)\n",
    "coefficient_interval_plot5(rsrbg_cgs)"
   ]
  },
  {
   "cell_type": "markdown",
   "id": "37abedb0",
   "metadata": {},
   "source": [
    "###### RSRG"
   ]
  },
  {
   "cell_type": "code",
   "execution_count": null,
   "id": "bbf32560",
   "metadata": {},
   "outputs": [],
   "source": [
    "rsrg_cgs = []\n",
    "for graph in rsrgs:\n",
    "    rsrg_cgs.append(get_centrality_of_global_subgraph(graph))\n",
    "\n",
    "get_details(rsrg_cgs)\n",
    "coefficient_interval_plot(rsrg_cgs)\n",
    "coefficient_interval_plot2(rsrg_cgs)\n",
    "coefficient_interval_plot3(rsrg_cgs)\n",
    "coefficient_interval_plot4(rsrg_cgs)\n",
    "coefficient_interval_plot5(rsrg_cgs)"
   ]
  },
  {
   "cell_type": "markdown",
   "id": "5d284d89",
   "metadata": {},
   "source": [
    "###### ER"
   ]
  },
  {
   "cell_type": "code",
   "execution_count": null,
   "id": "9f089b14",
   "metadata": {},
   "outputs": [],
   "source": [
    "random_cgs = []\n",
    "for graph in randoms:\n",
    "    random_cgs.append(get_centrality_of_global_subgraph(graph))\n",
    "\n",
    "get_details(random_cgs)\n",
    "coefficient_interval_plot(random_cgs)\n",
    "coefficient_interval_plot2(random_cgs)\n",
    "coefficient_interval_plot3(random_cgs)\n",
    "coefficient_interval_plot4(random_cgs)\n",
    "coefficient_interval_plot5(random_cgs)"
   ]
  },
  {
   "cell_type": "markdown",
   "id": "03ac7a81",
   "metadata": {},
   "source": [
    "### Compare"
   ]
  },
  {
   "cell_type": "code",
   "execution_count": null,
   "id": "e968a565",
   "metadata": {},
   "outputs": [],
   "source": [
    "datas = [rsrbg_cgs, rsrg_cgs, random_cgs]\n",
    "labels = ['rsrbg', 'rsrg', 'er']\n",
    "x_label = 'graph number'\n",
    "y_label = 'centrality of global subgraph'\n",
    "title = 'comparing centrality of global subgraph of graphs'\n",
    "compare_datas(datas, labels, x_label=x_label, y_label=y_label, title=title)"
   ]
  },
  {
   "cell_type": "markdown",
   "id": "756e630d",
   "metadata": {},
   "source": [
    "# Average Eigvals"
   ]
  },
  {
   "cell_type": "markdown",
   "id": "ef6c6f2b",
   "metadata": {},
   "source": [
    "###### RSRBG"
   ]
  },
  {
   "cell_type": "code",
   "execution_count": null,
   "id": "23ecb3b2",
   "metadata": {},
   "outputs": [],
   "source": [
    "rsrbg_ae = []\n",
    "for graph in rsrbgs:\n",
    "    rsrbg_ae.append(get_average_eigvals(graph))\n",
    "    \n",
    "get_details(rsrbg_ae)\n",
    "coefficient_interval_plot(rsrbg_ae)\n",
    "coefficient_interval_plot2(rsrbg_ae)\n",
    "coefficient_interval_plot3(rsrbg_ae)\n",
    "coefficient_interval_plot4(rsrbg_ae)\n",
    "coefficient_interval_plot5(rsrbg_ae)"
   ]
  },
  {
   "cell_type": "markdown",
   "id": "3031627d",
   "metadata": {},
   "source": [
    "###### RSRG"
   ]
  },
  {
   "cell_type": "code",
   "execution_count": null,
   "id": "0dbae2ec",
   "metadata": {},
   "outputs": [],
   "source": [
    "rsrg_ae = []\n",
    "for graph in rsrgs:\n",
    "    rsrg_ae.append(get_average_eigvals(graph))\n",
    "\n",
    "get_details(rsrg_ae)\n",
    "coefficient_interval_plot(rsrg_ae)\n",
    "coefficient_interval_plot2(rsrg_ae)\n",
    "coefficient_interval_plot3(rsrg_ae)\n",
    "coefficient_interval_plot4(rsrg_ae)\n",
    "coefficient_interval_plot5(rsrg_ae)"
   ]
  },
  {
   "cell_type": "markdown",
   "id": "7cbb43b7",
   "metadata": {},
   "source": [
    "###### ER"
   ]
  },
  {
   "cell_type": "code",
   "execution_count": null,
   "id": "472ac7af",
   "metadata": {},
   "outputs": [],
   "source": [
    "random_ae = []\n",
    "for graph in randoms:\n",
    "    random_ae.append(get_average_eigvals(graph))\n",
    "\n",
    "get_details(random_ae)\n",
    "coefficient_interval_plot(random_ae)\n",
    "coefficient_interval_plot2(random_ae)\n",
    "coefficient_interval_plot3(random_ae)\n",
    "coefficient_interval_plot4(random_ae)\n",
    "coefficient_interval_plot5(random_ae)"
   ]
  },
  {
   "cell_type": "markdown",
   "id": "7993a66d",
   "metadata": {},
   "source": [
    "### Compare"
   ]
  },
  {
   "cell_type": "code",
   "execution_count": null,
   "id": "d9f3013e",
   "metadata": {},
   "outputs": [],
   "source": [
    "datas = [rsrbg_ae, rsrg_ae, random_ae]\n",
    "labels = ['rsrbg', 'rsrg', 'er']\n",
    "x_label = 'graph number'\n",
    "y_label = 'average eigvals'\n",
    "title = 'comparing average eigvals of graphs'\n",
    "compare_datas(datas, labels, x_label=x_label, y_label=y_label, title=title)"
   ]
  },
  {
   "cell_type": "markdown",
   "id": "67e20e90",
   "metadata": {},
   "source": [
    "# Node Similarity"
   ]
  },
  {
   "cell_type": "markdown",
   "id": "54f4b6d8",
   "metadata": {},
   "source": [
    "###### RSRBG"
   ]
  },
  {
   "cell_type": "code",
   "execution_count": null,
   "id": "88ad1c2f",
   "metadata": {
    "scrolled": true
   },
   "outputs": [],
   "source": [
    "rsrbg_ns = []\n",
    "for graph in rsrbgs:\n",
    "    rsrbg_ns.append(is_node_similar(graph))\n",
    "\n",
    "rsrbg_node_similar = (sum(rsrbg_ns) / len(rsrbg_ns)) * 100\n",
    "print(f'node similar: {rsrbg_node_similar}%')"
   ]
  },
  {
   "cell_type": "markdown",
   "id": "160b3b14",
   "metadata": {},
   "source": [
    "###### RSRG"
   ]
  },
  {
   "cell_type": "code",
   "execution_count": null,
   "id": "a1e38744",
   "metadata": {},
   "outputs": [],
   "source": [
    "rsrg_ns = []\n",
    "for graph in rsrgs:\n",
    "    rsrg_ns.append(is_node_similar(graph))\n",
    "\n",
    "rsrg_node_similar = (sum(rsrg_ns) / len(rsrg_ns)) * 100\n",
    "print(f'node similar: {rsrg_node_similar}%')"
   ]
  },
  {
   "cell_type": "markdown",
   "id": "0a20f150",
   "metadata": {},
   "source": [
    "###### ER"
   ]
  },
  {
   "cell_type": "code",
   "execution_count": null,
   "id": "8b8a097e",
   "metadata": {},
   "outputs": [],
   "source": [
    "random_ns = []\n",
    "for graph in randoms:\n",
    "    random_ns.append(is_node_similar(graph))\n",
    "\n",
    "random_node_similar = (sum(random_ns) / len(random_ns)) * 100\n",
    "print(f'node similar: {random_node_similar}%')"
   ]
  },
  {
   "cell_type": "markdown",
   "id": "8e1f1372",
   "metadata": {},
   "source": [
    "# Symmetry"
   ]
  },
  {
   "cell_type": "markdown",
   "id": "7e2091e6",
   "metadata": {},
   "source": [
    "###### RSRBG"
   ]
  },
  {
   "cell_type": "code",
   "execution_count": null,
   "id": "cfc8dff4",
   "metadata": {},
   "outputs": [],
   "source": [
    "rsrbg_symmetry = []\n",
    "for graph in rsrbgs:\n",
    "    rsrbg_symmetry.append(is_symmetry(graph))\n",
    "\n",
    "\n",
    "rsrbg_sym = (sum(rsrbg_symmetry) / len(rsrbg_symmetry)) * 100\n",
    "print(f'symmetry: {rsrbg_sym}%')"
   ]
  },
  {
   "cell_type": "markdown",
   "id": "0d4cc5c1",
   "metadata": {},
   "source": [
    "###### RSRG"
   ]
  },
  {
   "cell_type": "code",
   "execution_count": null,
   "id": "e363ca75",
   "metadata": {},
   "outputs": [],
   "source": [
    "rsrg_symmetry = []\n",
    "for graph in rsrgs:\n",
    "    rsrg_symmetry.append(is_symmetry(graph))\n",
    "\n",
    "rsrg_sym = (sum(rsrg_symmetry) / len(rsrg_symmetry)) * 100\n",
    "print(f'symmetry: {rsrg_sym}%')"
   ]
  },
  {
   "cell_type": "markdown",
   "id": "190831d3",
   "metadata": {},
   "source": [
    "###### ER"
   ]
  },
  {
   "cell_type": "code",
   "execution_count": null,
   "id": "19722f96",
   "metadata": {},
   "outputs": [],
   "source": [
    "random_symmetry = []\n",
    "for graph in randoms:\n",
    "    random_symmetry.append(is_symmetry(graph))\n",
    "\n",
    "random_sym = (sum(random_symmetry) / len(random_symmetry)) * 100\n",
    "print(f'symmetry: {random_sym}%')"
   ]
  },
  {
   "cell_type": "markdown",
   "id": "a841afdc",
   "metadata": {},
   "source": [
    "# Laplacian Energy"
   ]
  },
  {
   "cell_type": "markdown",
   "id": "c68e0612",
   "metadata": {},
   "source": [
    "###### RSRBG"
   ]
  },
  {
   "cell_type": "code",
   "execution_count": null,
   "id": "a47dbcd7",
   "metadata": {},
   "outputs": [],
   "source": [
    "rsrbg_le = []\n",
    "for graph in rsrbgs:\n",
    "    try:\n",
    "        rsrbg_le.append(get_laplacian_energy(graph))\n",
    "    except:\n",
    "        rsrbg_le.append(0) # in case graph is not connected\n",
    "\n",
    "get_details(rsrbg_le)\n",
    "coefficient_interval_plot(rsrbg_le)\n",
    "coefficient_interval_plot2(rsrbg_le)\n",
    "coefficient_interval_plot3(rsrbg_le)\n",
    "coefficient_interval_plot4(rsrbg_le)\n",
    "coefficient_interval_plot5(rsrbg_le)"
   ]
  },
  {
   "cell_type": "markdown",
   "id": "e157c229",
   "metadata": {},
   "source": [
    "###### RSRG"
   ]
  },
  {
   "cell_type": "code",
   "execution_count": null,
   "id": "4d6de29e",
   "metadata": {},
   "outputs": [],
   "source": [
    "rsrg_le = []\n",
    "for graph in rsrgs:\n",
    "    try:\n",
    "        rsrg_le.append(get_laplacian_energy(graph))\n",
    "    except:\n",
    "        rsrg_le.append(0) # in case graph is not connected\n",
    "\n",
    "get_details(rsrg_le)\n",
    "coefficient_interval_plot(rsrg_le)\n",
    "coefficient_interval_plot2(rsrg_le)\n",
    "coefficient_interval_plot3(rsrg_le)\n",
    "coefficient_interval_plot4(rsrg_le)\n",
    "coefficient_interval_plot5(rsrg_le)"
   ]
  },
  {
   "cell_type": "markdown",
   "id": "42ac43fc",
   "metadata": {},
   "source": [
    "###### ER"
   ]
  },
  {
   "cell_type": "code",
   "execution_count": null,
   "id": "5ae5d73e",
   "metadata": {},
   "outputs": [],
   "source": [
    "random_le = []\n",
    "for graph in randoms:\n",
    "    try:\n",
    "        random_le.append(get_laplacian_energy(graph))\n",
    "    except:\n",
    "        random_le.append(0) # in case graph is not connected\n",
    "\n",
    "get_details(random_le)\n",
    "coefficient_interval_plot(random_le)\n",
    "coefficient_interval_plot2(random_le)\n",
    "coefficient_interval_plot3(random_le)\n",
    "coefficient_interval_plot4(random_le)\n",
    "coefficient_interval_plot5(random_le)"
   ]
  },
  {
   "cell_type": "markdown",
   "id": "b88b51cc",
   "metadata": {},
   "source": [
    "### Compare"
   ]
  },
  {
   "cell_type": "code",
   "execution_count": null,
   "id": "523bf854",
   "metadata": {},
   "outputs": [],
   "source": [
    "datas = [rsrbg_le, rsrg_le, random_le]\n",
    "labels = ['rsrbg', 'rsrg', 'er']\n",
    "x_label = 'graph number'\n",
    "y_label = 'laplacian energy'\n",
    "title = 'comparing laplacian energy of graphs'\n",
    "compare_datas(datas, labels, x_label=x_label, y_label=y_label, title=title)"
   ]
  },
  {
   "cell_type": "markdown",
   "id": "7d9da4cb",
   "metadata": {},
   "source": [
    "# "
   ]
  },
  {
   "cell_type": "markdown",
   "id": "d9264a47",
   "metadata": {},
   "source": [
    "# Monte-Carlo Simulation"
   ]
  },
  {
   "cell_type": "markdown",
   "id": "7f71fe9a",
   "metadata": {},
   "source": [
    "# Initial Parameters"
   ]
  },
  {
   "cell_type": "code",
   "execution_count": null,
   "id": "519ec723",
   "metadata": {},
   "outputs": [],
   "source": [
    "MC_NODE_NUMBER = 100\n",
    "# rsrg parameters:\n",
    "MC_UPPER_COPY_NUMBER_D1 = 15\n",
    "MC_LOWER_COPY_NUMBER_D1 = 10\n",
    "MC_LOWER_RSRG_P = 0.125\n",
    "MC_LOWER_AVERAGE_D_RSRG = 2\n",
    "MC_UPPER_AVERAGE_D_RSRG = 5\n",
    "MC_RSRG_PROBABILITIES = [1, 0.75, 0.5, 0.25, 0.125]\n",
    "\n",
    "MC_GRAPH_NUMBER = 100\n",
    "MC_SIMULATION_NUMBER = 100\n",
    "COLOR = ['red', 'green', 'blue', 'gray', 'yellow', 'brown', 'black']\n",
    "plt.figure(figsize = (8,8)) #Specify the size of figure"
   ]
  },
  {
   "cell_type": "markdown",
   "id": "5716805a",
   "metadata": {},
   "source": [
    "# Making RSRG"
   ]
  },
  {
   "cell_type": "code",
   "execution_count": null,
   "id": "15d49f5e",
   "metadata": {},
   "outputs": [],
   "source": [
    "def make_rsrg_graph(graph_no):\n",
    "    seed_values = random.sample(range(1, 34098),GRAPH_NUMBER)\n",
    "\n",
    "    rsrgs = []\n",
    "    probability_of_rsrg = []\n",
    "    d1_of_rsrg = []\n",
    "    d2_of_rsrg = []\n",
    "    for i in range(graph_no):\n",
    "        average_d = 0\n",
    "        p = 0\n",
    "        d1 = 0\n",
    "        d2 = 0\n",
    "        n = 0\n",
    "        while average_d > MC_UPPER_AVERAGE_D_RSRG or average_d == 0:\n",
    "            p = random.choice(MC_RSRG_PROBABILITIES)\n",
    "            d1 = random.randint(LOWER_COPY_NUMBER_D1, UPPER_COPY_NUMBER_D1)\n",
    "            d2 = random.randint(LOWER_COPY_NUMBER_D1, UPPER_COPY_NUMBER_D1)\n",
    "            n = NODE_NUMBER\n",
    "            average_d = (d1 * (1 - p) + p * d2) * p\n",
    "        \n",
    "        graph = generate_rsrg(p, d1, d2, n, seed=seed_values[i])\n",
    "        rsrgs.append(graph)\n",
    "        actuan_average_d = (2*graph.number_of_edges()) / float(graph.number_of_nodes())\n",
    "        print(f'p: {p}, d1: {d1}, d2: {d2}, technical <d>: {average_d}, <d>: {actuan_average_d}')\n",
    "        probability_of_rsrg.append(p)\n",
    "        d1_of_rsrg.append(d1)\n",
    "        d2_of_rsrg.append(d2)\n",
    "    \n",
    "    return rsrgs"
   ]
  },
  {
   "cell_type": "code",
   "execution_count": null,
   "id": "ab9f97ec",
   "metadata": {},
   "outputs": [],
   "source": [
    "def simulate():\n",
    "        rsrgs = make_rsrg_graph(GRAPH_NUMBER)\n",
    "        rsrg_ac = [get_algebraic_connectivity(graph) for graph in rsrgs]\n",
    "        get_details(rsrg_ac)\n",
    "        coefficient_interval_plot(rsrg_ac)\n",
    "        coefficient_interval_plot2(rsrg_ac)\n",
    "        coefficient_interval_plot3(rsrg_ac)\n",
    "        coefficient_interval_plot4(rsrg_ac)\n",
    "        coefficient_interval_plot5(rsrg_ac)\n",
    "        \n",
    "        draw_pdf(rsrg_ac, 'algebraic connectivity pdf')\n",
    "        draw_pdf2(rsrg_ac, 'algebraic connectivity pdf')\n",
    "        draw_pdf3(rsrg_ac, 'algebraic connectivity pdf')"
   ]
  },
  {
   "cell_type": "code",
   "execution_count": null,
   "id": "57c5edae",
   "metadata": {
    "scrolled": true
   },
   "outputs": [],
   "source": [
    "for i in range(SIMULATION_NUMBER):\n",
    "    simulate()"
   ]
  },
  {
   "cell_type": "code",
   "execution_count": null,
   "id": "e4e9b74f",
   "metadata": {},
   "outputs": [],
   "source": []
  },
  {
   "cell_type": "code",
   "execution_count": null,
   "id": "a37271bf",
   "metadata": {},
   "outputs": [],
   "source": []
  },
  {
   "cell_type": "code",
   "execution_count": null,
   "id": "021c67fb",
   "metadata": {},
   "outputs": [],
   "source": []
  },
  {
   "cell_type": "code",
   "execution_count": null,
   "id": "9546774d",
   "metadata": {},
   "outputs": [],
   "source": []
  },
  {
   "cell_type": "code",
   "execution_count": null,
   "id": "5a0e4511",
   "metadata": {},
   "outputs": [],
   "source": []
  },
  {
   "cell_type": "code",
   "execution_count": null,
   "id": "e94274b2",
   "metadata": {},
   "outputs": [],
   "source": []
  },
  {
   "cell_type": "code",
   "execution_count": null,
   "id": "46562895",
   "metadata": {},
   "outputs": [],
   "source": []
  },
  {
   "cell_type": "code",
   "execution_count": null,
   "id": "0eddb3b9",
   "metadata": {},
   "outputs": [],
   "source": []
  },
  {
   "cell_type": "code",
   "execution_count": null,
   "id": "6e1fc492",
   "metadata": {},
   "outputs": [],
   "source": []
  },
  {
   "cell_type": "code",
   "execution_count": null,
   "id": "9de955e5",
   "metadata": {},
   "outputs": [],
   "source": []
  },
  {
   "cell_type": "code",
   "execution_count": null,
   "id": "ce63d0fc",
   "metadata": {},
   "outputs": [],
   "source": []
  },
  {
   "cell_type": "code",
   "execution_count": null,
   "id": "40e64c38",
   "metadata": {},
   "outputs": [],
   "source": []
  },
  {
   "cell_type": "code",
   "execution_count": null,
   "id": "d1f35544",
   "metadata": {},
   "outputs": [],
   "source": []
  }
 ],
 "metadata": {
  "kernelspec": {
   "display_name": "Python 3 (ipykernel)",
   "language": "python",
   "name": "python3"
  },
  "language_info": {
   "codemirror_mode": {
    "name": "ipython",
    "version": 3
   },
   "file_extension": ".py",
   "mimetype": "text/x-python",
   "name": "python",
   "nbconvert_exporter": "python",
   "pygments_lexer": "ipython3",
   "version": "3.11.3"
  }
 },
 "nbformat": 4,
 "nbformat_minor": 5
}
