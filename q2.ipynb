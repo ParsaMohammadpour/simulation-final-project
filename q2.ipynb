{
 "cells": [
  {
   "cell_type": "code",
   "execution_count": null,
   "id": "7cc355a5",
   "metadata": {},
   "outputs": [],
   "source": [
    "import numpy as np\n",
    "import networkx as nx\n",
    "import matplotlib.pyplot as plt\n",
    "import random\n",
    "from collections import Counter\n",
    "import math\n",
    "import scipy.stats as st"
   ]
  },
  {
   "cell_type": "markdown",
   "id": "99b6db7d",
   "metadata": {},
   "source": [
    "# Init Variables"
   ]
  },
  {
   "cell_type": "code",
   "execution_count": null,
   "id": "1104bcf3",
   "metadata": {},
   "outputs": [],
   "source": [
    "NODE_NUMBER = 1000\n",
    "MAX_EDGE_NUMBER = (NODE_NUMBER) * (NODE_NUMBER - 1) / 2\n",
    "EDGE_PROBABILITY = 0.05\n",
    "EDGE_NUMBER = int(MAX_EDGE_NUMBER * EDGE_PROBABILITY)  # Approximately 0.05 of max possible edge number\n",
    "# GRAPH_NUMBER = 100\n",
    "GRAPH_NUMBER = 20\n",
    "# SIMULATION_NUMBER = 100\n",
    "SIMULATION_NUMBER = 1\n",
    "COLOR = ['red', 'green', 'blue', 'gray', 'yellow', 'brown', 'black']"
   ]
  },
  {
   "cell_type": "markdown",
   "id": "a896ff32",
   "metadata": {},
   "source": [
    "# Functions"
   ]
  },
  {
   "cell_type": "markdown",
   "id": "9125d47d",
   "metadata": {},
   "source": [
    "### Eigvals"
   ]
  },
  {
   "cell_type": "markdown",
   "id": "8c6214c7",
   "metadata": {},
   "source": [
    "###### Adjacency"
   ]
  },
  {
   "cell_type": "code",
   "execution_count": null,
   "id": "a9276ea0",
   "metadata": {},
   "outputs": [],
   "source": [
    "def get_adjacency_eigvals(graph):\n",
    "    L = nx.adjacency_matrix(graph)\n",
    "    e = np.linalg.eigvals(L.toarray())\n",
    "    e = list(sorted(e))\n",
    "    return e"
   ]
  },
  {
   "cell_type": "markdown",
   "id": "68f46550",
   "metadata": {},
   "source": [
    "###### Laplacian"
   ]
  },
  {
   "cell_type": "code",
   "execution_count": null,
   "id": "ac3da15e",
   "metadata": {},
   "outputs": [],
   "source": [
    "def get_laplacian_evigal(graph): # Laplacian matrix\n",
    "    L = nx.laplacian_matrix(graph)\n",
    "    e = np.linalg.eigvals(L.toarray())\n",
    "    e = list(sorted(e))\n",
    "    return e"
   ]
  },
  {
   "cell_type": "markdown",
   "id": "f278a664",
   "metadata": {},
   "source": [
    "### Spectral Gap"
   ]
  },
  {
   "cell_type": "code",
   "execution_count": null,
   "id": "a909f3d4",
   "metadata": {},
   "outputs": [],
   "source": [
    "def get_spectral_gap(graph):\n",
    "    eigvals = get_adjacency_eigvals(graph)\n",
    "    max_index = len(eigvals) - 1\n",
    "    maximum = eigvals[max_index]\n",
    "    second_max = eigvals[max_index - 1]\n",
    "    diff = maximum - second_max\n",
    "    return diff"
   ]
  },
  {
   "cell_type": "markdown",
   "id": "76961211",
   "metadata": {},
   "source": [
    "### Algebraic Connectivity"
   ]
  },
  {
   "cell_type": "code",
   "execution_count": null,
   "id": "9629d344",
   "metadata": {},
   "outputs": [],
   "source": [
    "def get_algebraic_connectivity(graph):\n",
    "    return nx.algebraic_connectivity(graph)"
   ]
  },
  {
   "cell_type": "markdown",
   "id": "c599eba1",
   "metadata": {},
   "source": [
    "### check for connection with Algebraic Connectivity"
   ]
  },
  {
   "cell_type": "code",
   "execution_count": null,
   "id": "93d445ae",
   "metadata": {},
   "outputs": [],
   "source": [
    "def is_graph_connected(graph):\n",
    "    return get_algebraic_connectivity(graph) > 0"
   ]
  },
  {
   "cell_type": "markdown",
   "id": "58d4c7e5",
   "metadata": {},
   "source": [
    "### Trace Power S"
   ]
  },
  {
   "cell_type": "code",
   "execution_count": null,
   "id": "385b07e7",
   "metadata": {},
   "outputs": [],
   "source": [
    "def get_trace_power_s(graph, power=2): # number of walks with len s (power) in graph\n",
    "    eigvals = get_adjacency_eigvals(graph)\n",
    "    eigvals_powers = np.power(eigvals, power)\n",
    "    summation = np.sum(eigvals_powers)\n",
    "    return summation"
   ]
  },
  {
   "cell_type": "markdown",
   "id": "c1e710a5",
   "metadata": {},
   "source": [
    "### Phi s (Average Trace Power S)"
   ]
  },
  {
   "cell_type": "code",
   "execution_count": null,
   "id": "dade70de",
   "metadata": {},
   "outputs": [],
   "source": [
    "def get_phi_s(graph): # average number of walks with len s (power) in graph\n",
    "    eigvals = get_adjacency_eigvals(graph)\n",
    "    eigvals_powers = np.power(eigvals, power)\n",
    "    summation = np.sum(eigvals_powers)\n",
    "    avg = summation / len(eigvals)\n",
    "    return summation"
   ]
  },
  {
   "cell_type": "markdown",
   "id": "ec519697",
   "metadata": {},
   "source": [
    "### Centrality of Global Subgraph"
   ]
  },
  {
   "cell_type": "code",
   "execution_count": null,
   "id": "e5b8c640",
   "metadata": {},
   "outputs": [],
   "source": [
    "def get_centrality_of_global_subgraph(graph):\n",
    "    eigvals = get_adjacency_eigvals(graph)\n",
    "    summation = sum([math.exp(value) for value in eigvals])\n",
    "    return summation"
   ]
  },
  {
   "cell_type": "markdown",
   "id": "ca0c5321",
   "metadata": {},
   "source": [
    "### Average Eigvals"
   ]
  },
  {
   "cell_type": "code",
   "execution_count": null,
   "id": "e6b2c80a",
   "metadata": {},
   "outputs": [],
   "source": [
    "def get_average_eigvals(graph):\n",
    "    summation = get_centrality_of_global_subgraph(graph)\n",
    "    ln = math.log(summation)\n",
    "    return ln"
   ]
  },
  {
   "cell_type": "markdown",
   "id": "c256d303",
   "metadata": {},
   "source": [
    "## Automorphism"
   ]
  },
  {
   "cell_type": "code",
   "execution_count": null,
   "id": "0afbaf44",
   "metadata": {},
   "outputs": [],
   "source": [
    "def get_all_automorphism(graph): # automorphism is isomorphism for a graph with itself\n",
    "    dictionary = nx.vf2pp_all_isomorphisms(graph, graph)\n",
    "    return list(dictionary) # return a list of mapping (return a list of dictionary)"
   ]
  },
  {
   "cell_type": "markdown",
   "id": "da8cc40e",
   "metadata": {},
   "source": [
    "### Node Similarity (Vertex Transitivity)"
   ]
  },
  {
   "cell_type": "code",
   "execution_count": null,
   "id": "9b297d1a",
   "metadata": {},
   "outputs": [],
   "source": [
    "def is_node_similar(graph):\n",
    "    automorphisms = get_all_automorphism(graph)\n",
    "    for u,v in graph.edges:\n",
    "        if not any(auto[u] == v for auto in automorphisms):\n",
    "            return False\n",
    "    return True"
   ]
  },
  {
   "cell_type": "markdown",
   "id": "81728fc6",
   "metadata": {},
   "source": [
    "### Symmetry (Edge Transitivity)"
   ]
  },
  {
   "cell_type": "code",
   "execution_count": null,
   "id": "8748ef77",
   "metadata": {},
   "outputs": [],
   "source": [
    "def is_symmetry(graph):\n",
    "    automorphisms = get_all_automorphism(graph)\n",
    "    for u, v in graph.edges:\n",
    "        for x, y in graph.edges:\n",
    "            if not any(auto[u] == x and auto[v] ==y for auto in automorphisms):\n",
    "                return False\n",
    "    return True"
   ]
  },
  {
   "cell_type": "markdown",
   "id": "e867bac0",
   "metadata": {},
   "source": [
    "### Laplacian Energy"
   ]
  },
  {
   "cell_type": "code",
   "execution_count": null,
   "id": "81a6bc1c",
   "metadata": {},
   "outputs": [],
   "source": [
    "def get_laplacian_energy(graph):\n",
    "    if not nx.is_connected(graph):\n",
    "        raise Exception(\"Graph Must Be Connected\")\n",
    "    if nx.is_directed(graph):\n",
    "        raise Exception(\"Graph Must Be Undirected\")\n",
    "    eigenvalues = get_adjacency_eigvals(graph)\n",
    "    laplacian_energy = sum([abs(value) for value in eigenvalues])\n",
    "    return laplacian_energy"
   ]
  },
  {
   "cell_type": "code",
   "execution_count": null,
   "id": "67187de6",
   "metadata": {},
   "outputs": [],
   "source": [
    "def get_laplacian_energy2(graph):\n",
    "    if not nx.is_connected(graph):\n",
    "        raise Exception(\"Graph Must Be Connected\")\n",
    "    if nx.is_directed(graph):\n",
    "        raise Exception(\"Graph Must Be Undirected\")\n",
    "    eigenvalues = get_adjacency_eigvals(graph)\n",
    "    summation = sum([value if value > 0 else 0 for value in eigenvalues])\n",
    "    laplacian_energy = summation * 2\n",
    "    return laplacian_energy"
   ]
  },
  {
   "cell_type": "code",
   "execution_count": null,
   "id": "702e0bf4",
   "metadata": {},
   "outputs": [],
   "source": [
    "def get_laplacian_energy3(graph):\n",
    "    if not nx.is_connected(graph):\n",
    "        raise Exception(\"Graph Must Be Connected\")\n",
    "    if nx.is_directed(graph):\n",
    "        raise Exception(\"Graph Must Be Undirected\")\n",
    "    eigenvalues = get_laplacian_evigal(graph)\n",
    "    n = graph.number_of_nodes()\n",
    "    m = graph.number_of_edges()\n",
    "    constant = (2 * m) / n\n",
    "    laplacian_energy = sum([abs(value - constant) for value in eigenvalues])\n",
    "    return laplacian_energy"
   ]
  },
  {
   "cell_type": "markdown",
   "id": "04fed769",
   "metadata": {},
   "source": [
    "### Plotting Graphs"
   ]
  },
  {
   "cell_type": "code",
   "execution_count": null,
   "id": "2d7a1a0b",
   "metadata": {},
   "outputs": [],
   "source": [
    "def show_graph(graph, path=None, labels=False):\n",
    "    pos = nx.circular_layout(graph)\n",
    "    plt.figure(figsize = (12, 12))\n",
    "    nx.draw_networkx(graph, pos, with_labels=labels)\n",
    "    if path != None:\n",
    "        plt.savefig(path+'.png')\n",
    "    plt.show()"
   ]
  },
  {
   "cell_type": "markdown",
   "id": "4323171b",
   "metadata": {},
   "source": [
    "### Degree Distribution"
   ]
  },
  {
   "cell_type": "code",
   "execution_count": null,
   "id": "52e483f1",
   "metadata": {},
   "outputs": [],
   "source": [
    "def degree_distribution(graph, path=None, style='-o'):\n",
    "    degrees = [graph.degree(n) for n in graph.nodes()]\n",
    "    degrees = list(sorted(degrees))\n",
    "    degree_freq_dic = Counter(degrees)\n",
    "    x_axis = degree_freq_dic.keys()\n",
    "    y_axis = degree_freq_dic.values()\n",
    "    y_axis = np.array(list(y_axis)) / len(degrees)\n",
    "    \n",
    "    plt.title('Degree Distribution')\n",
    "    plt.xlabel(\"Degree\")\n",
    "    plt.ylabel(\"Frequesncy\")\n",
    "    plt.plot(x_axis, y_axis, style, label='degree probability')\n",
    "    \n",
    "    upper_y = np.array([0, max(y_axis)])\n",
    "    avg = np.average(degrees)\n",
    "    upper_x = np.array([avg, avg])\n",
    "    plt.plot(upper_x, upper_y, color='red', linestyle='-.', label='mean')\n",
    "    plt.legend(loc='best') # setting best location for labels\n",
    "    \n",
    "    if path != None:\n",
    "        plt.savefig(path+'.png')\n",
    "    plt.show()"
   ]
  },
  {
   "cell_type": "markdown",
   "id": "8fdd4b30",
   "metadata": {},
   "source": [
    "### Double-Log"
   ]
  },
  {
   "cell_type": "code",
   "execution_count": null,
   "id": "2985305f",
   "metadata": {},
   "outputs": [],
   "source": [
    "def double_log(graph, path=None, style='-o'):\n",
    "    degrees = [graph.degree(n) for n in graph.nodes()]\n",
    "    degrees = list(sorted(degrees))\n",
    "    degree_freq_dic = Counter(degrees)\n",
    "    unique_degrees = list(degree_freq_dic.keys())\n",
    "    frequency = list(degree_freq_dic.values())\n",
    "    x_axis = np.log(unique_degrees)\n",
    "    y_axis = np.log(frequency)\n",
    "    y_axis = np.array(list(y_axis)) / len(degrees)\n",
    "    plt.xlabel(\"Degree\")\n",
    "    plt.ylabel(\"Degree Distribution\")\n",
    "    plt.title('Double Log')\n",
    "    plt.plot(x_axis, y_axis, style, label='degree distribution')\n",
    "    if path != None:\n",
    "        plt.savefig(path+'.png')\n",
    "    plt.show()"
   ]
  },
  {
   "cell_type": "markdown",
   "id": "5c1c17a5",
   "metadata": {},
   "source": [
    "## Comparing Plots"
   ]
  },
  {
   "cell_type": "code",
   "execution_count": null,
   "id": "404e0974",
   "metadata": {},
   "outputs": [],
   "source": [
    "def compare_datas(datas, labels, x_label='', y_label='', title='', style='-o', color=COLOR, path=None):\n",
    "    plt.xlabel(x_label)\n",
    "    plt.ylabel(y_label)\n",
    "    plt.title(title)\n",
    "    for i in range(len(datas)):\n",
    "        x_axis = list(range(len(datas[i])))\n",
    "        plt.plot(x_axis, datas[i], style, label=labels[i], color=color[i])\n",
    "    if path != None:\n",
    "        plt.savefig(path+'.png')\n",
    "    plt.show()"
   ]
  },
  {
   "cell_type": "markdown",
   "id": "1b2d88c2",
   "metadata": {},
   "source": [
    "## Data Details"
   ]
  },
  {
   "cell_type": "markdown",
   "id": "dc5b3372",
   "metadata": {},
   "source": [
    "### c.i plots"
   ]
  },
  {
   "cell_type": "code",
   "execution_count": null,
   "id": "253e5165",
   "metadata": {},
   "outputs": [],
   "source": [
    "def coefficient_interval_plot(data, path=None, alpha=0.95):\n",
    "    x = np.array([i for i in range(len(data))])\n",
    "    y = np.array(data)\n",
    "    # plotting\n",
    "    plt.plot(y, x,'o', color='blue', label='data')\n",
    "    \n",
    "    # confidence intervals\n",
    "    p = ((1.0-alpha)/2.0) * 100\n",
    "    # percentile function returns the numbers which that percent of \n",
    "    # the array elements areless equal then that number\n",
    "    lower =  np.percentile(y, p) \n",
    "    p = (alpha+((1.0-alpha)/2.0)) * 100\n",
    "    upper =  np.percentile(y, p)\n",
    "#     print(f\"\\n{alpha*100} confidence interval {lower} and {upper}\")\n",
    "    \n",
    "    # c.i upper & lower\n",
    "    upper_y = np.array([0, len(data)])\n",
    "    upper_x = np.array([upper, upper])\n",
    "    plt.plot(upper_x, upper_y, color='red', linestyle='-.', label='upper c.i')\n",
    "    \n",
    "    lower_y = np.array([0, len(data)])\n",
    "    lower_x = np.array([lower, lower])\n",
    "    plt.plot(lower_x, lower_y, color='orange', linestyle='-.', label='lower c.i')\n",
    "    \n",
    "    ci_x = np.array([lower, upper])\n",
    "    ci_y = np.array([0, 0])\n",
    "    plt.plot(ci_x, ci_y, '-', color='green', label='c.i')\n",
    "    plt.legend(loc='best')\n",
    "    if path != None:\n",
    "        plt.savefig(path+'.png')\n",
    "    plt.show()"
   ]
  },
  {
   "cell_type": "code",
   "execution_count": null,
   "id": "01652f14",
   "metadata": {},
   "outputs": [],
   "source": [
    "def coefficient_interval_plot2(data, path=None, alpha=0.95):\n",
    "    x = np.array(list(range(len(data))))\n",
    "    y = np.array(data)\n",
    "    # Plotting data\n",
    "    plt.plot(x, y, '-o', color='red', label='data')\n",
    "    \n",
    "    # confidence intervals\n",
    "    ci = (1.0-alpha) * np.std(y) / np.mean(y)\n",
    "    mean = np.mean(y)\n",
    "    avg = [mean for i in range(len(data))]\n",
    "    \n",
    "    # Plot the confidence interval\n",
    "    plt.fill_between(x, (avg-ci), (avg+ci), color='blue', alpha=0.1)\n",
    "    plt.plot(x, (avg-ci), '--', color='blue', label='-*ci')\n",
    "    plt.plot(x, (avg+ci), '--', color='blue', label='+*ci')\n",
    "    plt.fill_between(x, (avg-2*ci), (avg+2*ci), color='green', alpha=.1)\n",
    "    plt.plot(x, (avg-2*ci), '--', color='green', label='-2*ci')\n",
    "    plt.plot(x, (avg+2*ci), '--', color='green', label='+2*ci')\n",
    "    plt.legend(loc='best')\n",
    "    if path != None:\n",
    "        plt.savefig(path+'.png')\n",
    "    plt.show()"
   ]
  },
  {
   "cell_type": "code",
   "execution_count": null,
   "id": "34b9147f",
   "metadata": {},
   "outputs": [],
   "source": [
    "def coefficient_interval_plot3(data, path=None, alpha=0.95):\n",
    "    x = np.array(list(range(len(data))))\n",
    "    y = np.array(data)\n",
    "    # Plotting data\n",
    "    plt.plot(x, y, '-o', color='red', label='data')\n",
    "    \n",
    "    # Define the confidence interval\n",
    "    ci = (1.0-alpha) * np.std(y) / np.mean(y)\n",
    "    \n",
    "    # Plot the confidence interval\n",
    "    plt.fill_between(x, (y-ci), (y+ci), color='blue', alpha=0.1)\n",
    "    plt.plot(x, (y-2*ci), '--', color='blue', label='-*ci')\n",
    "    plt.plot(x, (y+2*ci), '--', color='blue', label='+*ci')\n",
    "    plt.fill_between(x, (y-2*ci), (y+2*ci), color='green', alpha=.1)\n",
    "    plt.plot(x, (y-2*ci), '--', color='green', label='-2*ci')\n",
    "    plt.plot(x, (y+2*ci), '--', color='green', label='+2*ci')\n",
    "    plt.legend(loc='best')\n",
    "    if path != None:\n",
    "        plt.savefig(path+'.png')\n",
    "    plt.show()"
   ]
  },
  {
   "cell_type": "code",
   "execution_count": null,
   "id": "c30d6fd7",
   "metadata": {},
   "outputs": [],
   "source": [
    "def coefficient_interval_plot4(data, path=None):\n",
    "    x = np.array(list(range(len(data))))\n",
    "    y = np.array(data)\n",
    "    y.astype('float64')\n",
    "                 \n",
    "    # Plotting data\n",
    "    plt.plot(x, y, '-o', color='red', label='data')\n",
    "    \n",
    "    low, high = st.norm.interval(alpha=0.9, loc=np.mean(data), scale=st.sem(data))\n",
    "    low2, high2 = st.norm.interval(alpha=0.95, loc=np.mean(data), scale=st.sem(data))\n",
    "    low3, high3 = st.norm.interval(alpha=0.99, loc=np.mean(data), scale=st.sem(data))\n",
    "    \n",
    "    # Plot the confidence interval\n",
    "    plt.fill_between(x, [low3 for i in x], [high3 for i in x], color='green', alpha=0.1)\n",
    "    plt.plot(x, [low3 for i in x], '--', color='green', label='alpha=0.99')\n",
    "    plt.plot(x, [high3 for i in x], '--', color='green')\n",
    "    \n",
    "    plt.fill_between(x, [low2 for i in x], [high2 for i in x], color='orange', alpha=0.1)\n",
    "    plt.plot(x, [low2 for i in x], '--', color='orange', label='0.95')\n",
    "    plt.plot(x, [high2 for i in x], '--', color='orange')\n",
    "    \n",
    "    plt.fill_between(x, [low for i in x], [high for i in x], color='blue', alpha=0.1)\n",
    "    plt.plot(x, [low for i in x], '--', color='blue', label='0.9')\n",
    "    plt.plot(x, [high for i in x], '--', color='blue')\n",
    "    plt.legend(loc='best')\n",
    "    if path != None:\n",
    "        plt.savefig(path+'.png')\n",
    "    plt.show()"
   ]
  },
  {
   "cell_type": "code",
   "execution_count": null,
   "id": "67788bdc",
   "metadata": {},
   "outputs": [],
   "source": [
    "def coefficient_interval_plot5(data, path=None):\n",
    "    x = np.array(list(range(len(data))))\n",
    "    y = np.array(data)\n",
    "    y.astype('float64')\n",
    "                 \n",
    "    # Plotting data\n",
    "    plt.plot(x, y, '-o', color='red', label='data')\n",
    "    \n",
    "    # Plot the confidence interval\n",
    "    alpha = 0.99\n",
    "    p = ((1.0-alpha)/2.0) * 100\n",
    "    # percentile function returns the numbers which that percent of \n",
    "    # the array elements areless equal then that number\n",
    "    lower =  np.percentile(y, p) \n",
    "    p = (alpha+((1.0-alpha)/2.0)) * 100\n",
    "    upper =  np.percentile(y, p)\n",
    "    \n",
    "    plt.fill_between(x, [lower for i in x], [upper for i in x], color='green', alpha=0.1)\n",
    "    plt.plot(x, [lower for i in x], '--', color='green', label='alpha=0.99')\n",
    "    plt.plot(x, [upper for i in x], '--', color='green')\n",
    "    \n",
    "    alpha = 0.95\n",
    "    p = ((1.0-alpha)/2.0) * 100\n",
    "    # percentile function returns the numbers which that percent of \n",
    "    # the array elements areless equal then that number\n",
    "    lower =  np.percentile(y, p) \n",
    "    p = (alpha+((1.0-alpha)/2.0)) * 100\n",
    "    upper =  np.percentile(y, p)\n",
    "    \n",
    "    plt.fill_between(x, [lower for i in x], [upper for i in x], color='orange', alpha=0.1)\n",
    "    plt.plot(x, [lower for i in x], '--', color='orange', label='0.95')\n",
    "    plt.plot(x, [upper for i in x], '--', color='orange')\n",
    "    \n",
    "    alpha = 0.9\n",
    "    p = ((1.0-alpha)/2.0) * 100\n",
    "    # percentile function returns the numbers which that percent of \n",
    "    # the array elements areless equal then that number\n",
    "    lower =  np.percentile(y, p) \n",
    "    p = (alpha+((1.0-alpha)/2.0)) * 100\n",
    "    upper =  np.percentile(y, p)\n",
    "    \n",
    "    plt.fill_between(x, [lower for i in x], [upper for i in x], color='blue', alpha=0.1)\n",
    "    plt.plot(x, [lower for i in x], '--', color='blue', label='0.9')\n",
    "    plt.plot(x, [upper for i in x], '--', color='blue')\n",
    "    plt.legend(loc='best')\n",
    "    if path != None:\n",
    "        plt.savefig(path+'.png')\n",
    "    plt.show()"
   ]
  },
  {
   "cell_type": "markdown",
   "id": "d3a6ffc2",
   "metadata": {},
   "source": [
    "### Mean & Variance"
   ]
  },
  {
   "cell_type": "code",
   "execution_count": null,
   "id": "c2904f1c",
   "metadata": {},
   "outputs": [],
   "source": [
    "def get_details(data):\n",
    "    print('mean: ', np.mean(data))\n",
    "    print('variance: ', np.var(data))"
   ]
  },
  {
   "cell_type": "markdown",
   "id": "047f98b9",
   "metadata": {},
   "source": [
    "# RSRBG Generator"
   ]
  },
  {
   "cell_type": "code",
   "execution_count": null,
   "id": "0b63a45e",
   "metadata": {},
   "outputs": [],
   "source": [
    "def generate_rsrbg(d1, d2, n, seed=None):\n",
    "    if (n * d2) % (d1 + d2) != 0:\n",
    "        raise Exception(f\"can't make graph with {n} nodes!\")\n",
    "        \n",
    "    if seed != None:\n",
    "        random.seed(seed)\n",
    "    \n",
    "    n1 = int((n * d2) / (d1 + d2))\n",
    "    n2 = n - n1\n",
    "    \n",
    "    graph = nx.Graph()\n",
    "    graph.add_nodes_from(list(range(n)))\n",
    "    \n",
    "    n1_stubs = list(range(n1)) * d1\n",
    "    n2_stubs = list(range(n1, n)) * d2\n",
    "    \n",
    "    while len(n1_stubs) > 1:\n",
    "        rnd1 = random.randint(0, len(n1_stubs) - 1)\n",
    "        rnd2 = random.randint(0, len(n2_stubs) - 1)\n",
    "        if graph.has_edge(n1_stubs[rnd1], n2_stubs[rnd2]):\n",
    "            continue\n",
    "        graph.add_edge(n1_stubs[rnd1], n2_stubs[rnd2])\n",
    "        n1_stubs.pop(rnd1)\n",
    "        n2_stubs.pop(rnd2)\n",
    "    \n",
    "    if graph.has_edge(n1_stubs[0], n2_stubs[0]):\n",
    "        for u, v in graph.edges:\n",
    "            n1_node = min([u, v])\n",
    "            n2_node = max([u, v])\n",
    "            if n1_node != n1_stubs[0] and n2_node != n2_stubs[0] and (not graph.has_edge(n1_node, n2_stubs[0])) and (not graph.has_edge(n1_stubs[0], n2_node)):\n",
    "                graph.remove_edge(u, v)\n",
    "                graph.add_edge(n1_node, n2_stubs[0])\n",
    "                graph.add_edge(n1_stubs[0], n2_node)\n",
    "                break\n",
    "    else:\n",
    "        graph.add_edge(n1_stubs[0], n2_stubs[0])\n",
    "    return graph"
   ]
  },
  {
   "cell_type": "markdown",
   "id": "e2b64a38",
   "metadata": {},
   "source": [
    "# Making Some Random Examples"
   ]
  },
  {
   "cell_type": "code",
   "execution_count": null,
   "id": "e9974174",
   "metadata": {
    "scrolled": true
   },
   "outputs": [],
   "source": [
    "seed_values = random.sample(range(1, 100000), GRAPH_NUMBER) # generating GRAPH_NUMBER unique random number to be used as seed\n",
    "rsrbgs = []\n",
    "rsrbgs.append(generate_rsrbg(2, 3, 5, seed_values[0]))\n",
    "rsrbgs.append(generate_rsrbg(2, 3, 10, seed_values[1]))\n",
    "rsrbgs.append(generate_rsrbg(4, 3, 7, seed_values[2]))\n",
    "rsrbgs.append(generate_rsrbg(4, 3, 14, seed_values[3]))\n",
    "rsrbgs.append(generate_rsrbg(2, 5, 7, seed_values[4]))\n",
    "rsrbgs.append(generate_rsrbg(2, 5, 14, seed_values[5]))\n",
    "rsrbgs.append(generate_rsrbg(4, 5, 9, seed_values[6]))\n",
    "rsrbgs.append(generate_rsrbg(4, 5, 18, seed_values[7]))\n",
    "rsrbgs.append(generate_rsrbg(6, 5, 22, seed_values[8]))\n",
    "rsrbgs.append(generate_rsrbg(6, 5, 11, seed_values[9]))\n",
    "rsrbgs.append(generate_rsrbg(6, 7, 13, seed_values[8]))\n",
    "rsrbgs.append(generate_rsrbg(6, 8, 14, seed_values[9]))"
   ]
  },
  {
   "cell_type": "code",
   "execution_count": null,
   "id": "49a0b2a0",
   "metadata": {
    "scrolled": true
   },
   "outputs": [],
   "source": [
    "for graph in rsrbgs:\n",
    "    show_graph(graph, labels=True)"
   ]
  },
  {
   "cell_type": "markdown",
   "id": "e6ee0460",
   "metadata": {},
   "source": [
    "### Degree Distribution"
   ]
  },
  {
   "cell_type": "code",
   "execution_count": null,
   "id": "7cf879ff",
   "metadata": {
    "scrolled": true
   },
   "outputs": [],
   "source": [
    "for graph in rsrbgs:\n",
    "    degree_distribution(graph)"
   ]
  },
  {
   "cell_type": "markdown",
   "id": "4187bfb6",
   "metadata": {},
   "source": [
    "# Algebraic Connectivity"
   ]
  },
  {
   "cell_type": "code",
   "execution_count": null,
   "id": "99b59d11",
   "metadata": {},
   "outputs": [],
   "source": [
    "ac = []\n",
    "for graph in rsrbgs:\n",
    "    ac.append(get_algebraic_connectivity(graph))"
   ]
  },
  {
   "cell_type": "code",
   "execution_count": null,
   "id": "c55e4882",
   "metadata": {},
   "outputs": [],
   "source": [
    "get_details(ac)"
   ]
  },
  {
   "cell_type": "code",
   "execution_count": null,
   "id": "edfa14b6",
   "metadata": {
    "scrolled": true
   },
   "outputs": [],
   "source": [
    "coefficient_interval_plot(ac)\n",
    "coefficient_interval_plot2(ac)\n",
    "coefficient_interval_plot3(ac)\n",
    "coefficient_interval_plot4(ac)\n",
    "coefficient_interval_plot5(ac)"
   ]
  },
  {
   "cell_type": "markdown",
   "id": "9f025911",
   "metadata": {},
   "source": [
    "# Spectral Gap"
   ]
  },
  {
   "cell_type": "code",
   "execution_count": null,
   "id": "284590c4",
   "metadata": {},
   "outputs": [],
   "source": [
    "sg = []\n",
    "for graph in rsrbgs:\n",
    "    sg.append(get_spectral_gap(graph))"
   ]
  },
  {
   "cell_type": "code",
   "execution_count": null,
   "id": "0d8e46b5",
   "metadata": {},
   "outputs": [],
   "source": [
    "get_details(sg)"
   ]
  },
  {
   "cell_type": "code",
   "execution_count": null,
   "id": "946c5c45",
   "metadata": {
    "scrolled": true
   },
   "outputs": [],
   "source": [
    "coefficient_interval_plot(sg)\n",
    "coefficient_interval_plot2(sg)\n",
    "coefficient_interval_plot3(sg)\n",
    "try:\n",
    "    coefficient_interval_plot4(sg)\n",
    "except:\n",
    "    plt.title('Erore Occured!') # Due To Complex Data Type as resualt of get_adjacency_eigvals function\n",
    "    plt.show()\n",
    "coefficient_interval_plot5(sg)"
   ]
  },
  {
   "cell_type": "markdown",
   "id": "2dbf8184",
   "metadata": {},
   "source": [
    "# Centrality Of Global Subgraph"
   ]
  },
  {
   "cell_type": "code",
   "execution_count": null,
   "id": "bba1e79f",
   "metadata": {},
   "outputs": [],
   "source": [
    "cgs = []\n",
    "for graph in rsrbgs:\n",
    "    cgs.append(get_centrality_of_global_subgraph(graph))"
   ]
  },
  {
   "cell_type": "code",
   "execution_count": null,
   "id": "7ba96ca0",
   "metadata": {},
   "outputs": [],
   "source": [
    "get_details(cgs)"
   ]
  },
  {
   "cell_type": "code",
   "execution_count": null,
   "id": "4585a9c2",
   "metadata": {},
   "outputs": [],
   "source": [
    "coefficient_interval_plot(cgs)\n",
    "coefficient_interval_plot2(cgs)\n",
    "coefficient_interval_plot3(cgs)\n",
    "coefficient_interval_plot4(cgs)\n",
    "coefficient_interval_plot5(cgs)"
   ]
  },
  {
   "cell_type": "markdown",
   "id": "fdc81ae5",
   "metadata": {},
   "source": [
    "# Average Eigvals"
   ]
  },
  {
   "cell_type": "code",
   "execution_count": null,
   "id": "d91216bd",
   "metadata": {},
   "outputs": [],
   "source": [
    "ae = []\n",
    "for graph in rsrbgs:\n",
    "    ae.append(get_average_eigvals(graph))"
   ]
  },
  {
   "cell_type": "code",
   "execution_count": null,
   "id": "f9b687eb",
   "metadata": {},
   "outputs": [],
   "source": [
    "get_details(ae)"
   ]
  },
  {
   "cell_type": "code",
   "execution_count": null,
   "id": "1b05466d",
   "metadata": {},
   "outputs": [],
   "source": [
    "coefficient_interval_plot(ae)\n",
    "coefficient_interval_plot2(ae)\n",
    "coefficient_interval_plot3(ae)\n",
    "coefficient_interval_plot4(ae)\n",
    "coefficient_interval_plot5(ae)"
   ]
  },
  {
   "cell_type": "markdown",
   "id": "1121eb94",
   "metadata": {},
   "source": [
    "# Node Similarity"
   ]
  },
  {
   "cell_type": "code",
   "execution_count": null,
   "id": "435e818a",
   "metadata": {
    "scrolled": true
   },
   "outputs": [],
   "source": [
    "ns = []\n",
    "for graph in rsrbgs:\n",
    "    ns.append(is_node_similar(graph))"
   ]
  },
  {
   "cell_type": "code",
   "execution_count": null,
   "id": "aaa3b28c",
   "metadata": {},
   "outputs": [],
   "source": [
    "node_similar = (sum(ns) / len(ns)) * 100\n",
    "print(f'node similar: {node_similar}%')"
   ]
  },
  {
   "cell_type": "markdown",
   "id": "e2fc5b09",
   "metadata": {},
   "source": [
    "# Symmetry"
   ]
  },
  {
   "cell_type": "code",
   "execution_count": null,
   "id": "f69f899c",
   "metadata": {
    "scrolled": true
   },
   "outputs": [],
   "source": [
    "symmetry = []\n",
    "for graph in rsrbgs:\n",
    "    symmetry.append(is_symmetry(graph))"
   ]
  },
  {
   "cell_type": "code",
   "execution_count": null,
   "id": "08f3703c",
   "metadata": {
    "scrolled": true
   },
   "outputs": [],
   "source": [
    "sym = (sum(symmetry) / len(symmetry)) * 100\n",
    "print(f'symmetry: {sym}%')"
   ]
  },
  {
   "cell_type": "markdown",
   "id": "62610cbc",
   "metadata": {},
   "source": [
    "# Laplacian Energy"
   ]
  },
  {
   "cell_type": "code",
   "execution_count": null,
   "id": "a9add4b0",
   "metadata": {},
   "outputs": [],
   "source": [
    "lg = []\n",
    "for graph in rsrbgs:\n",
    "    lg.append(get_laplacian_energy(graph))"
   ]
  },
  {
   "cell_type": "code",
   "execution_count": null,
   "id": "dbe1ad2f",
   "metadata": {},
   "outputs": [],
   "source": [
    "get_details(lg)"
   ]
  },
  {
   "cell_type": "code",
   "execution_count": null,
   "id": "a55a2052",
   "metadata": {},
   "outputs": [],
   "source": [
    "coefficient_interval_plot(lg)\n",
    "coefficient_interval_plot2(lg)\n",
    "coefficient_interval_plot3(lg)\n",
    "coefficient_interval_plot4(lg)\n",
    "coefficient_interval_plot5(lg)"
   ]
  }
 ],
 "metadata": {
  "kernelspec": {
   "display_name": "Python 3 (ipykernel)",
   "language": "python",
   "name": "python3"
  },
  "language_info": {
   "codemirror_mode": {
    "name": "ipython",
    "version": 3
   },
   "file_extension": ".py",
   "mimetype": "text/x-python",
   "name": "python",
   "nbconvert_exporter": "python",
   "pygments_lexer": "ipython3",
   "version": "3.11.3"
  }
 },
 "nbformat": 4,
 "nbformat_minor": 5
}
