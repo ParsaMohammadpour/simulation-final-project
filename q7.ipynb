{
 "cells": [
  {
   "cell_type": "code",
   "execution_count": null,
   "id": "7cc355a5",
   "metadata": {},
   "outputs": [],
   "source": [
    "import numpy as np\n",
    "import networkx as nx\n",
    "import matplotlib.pyplot as plt\n",
    "import random\n",
    "from collections import Counter\n",
    "import math\n",
    "import scipy.stats as st\n",
    "import seaborn as sns"
   ]
  },
  {
   "cell_type": "markdown",
   "id": "99b6db7d",
   "metadata": {},
   "source": [
    "# Init Variables"
   ]
  },
  {
   "cell_type": "code",
   "execution_count": null,
   "id": "1104bcf3",
   "metadata": {},
   "outputs": [],
   "source": [
    "NODE_NUMBER = 100\n",
    "MAX_EDGE_NUMBER = (NODE_NUMBER) * (NODE_NUMBER - 1) / 2\n",
    "# er parameters:\n",
    "UPPER_EDGE_PROBABILITY = 0.06\n",
    "LOWER_EDGE_PROBABILITY = 0.02\n",
    "EDGE_PROBABILITY = 0.05\n",
    "EDGE_NUMBER = int(MAX_EDGE_NUMBER * EDGE_PROBABILITY)  # Approximately 0.05 of max possible edge number\n",
    "# rsrg parameters:\n",
    "UPPER_COPY_NUMBER_D1 = 15\n",
    "LOWER_COPY_NUMBER_D1 = 10\n",
    "LOWER_RSRG_P = 0.125\n",
    "LOWER_AVERAGE_D_RSRG = 2\n",
    "UPPER_AVERAGE_D_RSRG = 6\n",
    "RSRG_PROBABILITIES = [1, 0.75, 0.5, 0.25, 0.125]\n",
    "#rsrbg parameters:\n",
    "VALID_D_PAIRS_FOR_NODE_NUMBER = []\n",
    "for x in range(2, int(NODE_NUMBER / 4)):\n",
    "    y = x\n",
    "    while y < (NODE_NUMBER / 4):\n",
    "        if NODE_NUMBER % (x + y) == 0:\n",
    "            VALID_D_PAIRS_FOR_NODE_NUMBER.append((x, y))\n",
    "        y = y + 1\n",
    "\n",
    "GRAPH_NUMBER = 10\n",
    "plt.figure(figsize = (8,8)) #Specify the size of figure\n",
    "SIMULATION_NUMBER = 100\n",
    "COLOR = ['red', 'green', 'blue', 'gray', 'yellow', 'brown', 'black']\n",
    "\n",
    "RANDOM_REGULAR_NUMBER_RANGE = list(range(4, 11))"
   ]
  },
  {
   "cell_type": "markdown",
   "id": "a896ff32",
   "metadata": {},
   "source": [
    "# Functions"
   ]
  },
  {
   "cell_type": "markdown",
   "id": "9125d47d",
   "metadata": {},
   "source": [
    "### Eigvals"
   ]
  },
  {
   "cell_type": "markdown",
   "id": "8c6214c7",
   "metadata": {},
   "source": [
    "###### Adjacency"
   ]
  },
  {
   "cell_type": "code",
   "execution_count": null,
   "id": "a9276ea0",
   "metadata": {},
   "outputs": [],
   "source": [
    "def get_adjacency_eigvals(graph):\n",
    "    L = nx.adjacency_matrix(graph)\n",
    "    e = np.linalg.eigvals(L.toarray())\n",
    "    e = list(sorted(e))\n",
    "    return e"
   ]
  },
  {
   "cell_type": "markdown",
   "id": "68f46550",
   "metadata": {},
   "source": [
    "###### Laplacian"
   ]
  },
  {
   "cell_type": "code",
   "execution_count": null,
   "id": "ac3da15e",
   "metadata": {},
   "outputs": [],
   "source": [
    "def get_laplacian_evigal(graph): # Laplacian matrix\n",
    "    L = nx.laplacian_matrix(graph)\n",
    "    e = np.linalg.eigvals(L.toarray())\n",
    "    e = list(sorted(e))\n",
    "    return e"
   ]
  },
  {
   "cell_type": "markdown",
   "id": "f278a664",
   "metadata": {},
   "source": [
    "### Spectral Gap"
   ]
  },
  {
   "cell_type": "code",
   "execution_count": null,
   "id": "a909f3d4",
   "metadata": {},
   "outputs": [],
   "source": [
    "def get_spectral_gap(graph):\n",
    "    eigvals = get_adjacency_eigvals(graph)\n",
    "    max_index = len(eigvals) - 1\n",
    "    maximum = eigvals[max_index]\n",
    "    second_max = eigvals[max_index - 1]\n",
    "    diff = maximum - second_max\n",
    "    return diff"
   ]
  },
  {
   "cell_type": "markdown",
   "id": "76961211",
   "metadata": {},
   "source": [
    "### Algebraic Connectivity"
   ]
  },
  {
   "cell_type": "code",
   "execution_count": null,
   "id": "9629d344",
   "metadata": {},
   "outputs": [],
   "source": [
    "def get_algebraic_connectivity(graph):\n",
    "    return nx.algebraic_connectivity(graph)"
   ]
  },
  {
   "cell_type": "markdown",
   "id": "c599eba1",
   "metadata": {},
   "source": [
    "### check for connection with Algebraic Connectivity"
   ]
  },
  {
   "cell_type": "code",
   "execution_count": null,
   "id": "93d445ae",
   "metadata": {},
   "outputs": [],
   "source": [
    "def is_graph_connected(graph):\n",
    "    return get_algebraic_connectivity(graph) > 0"
   ]
  },
  {
   "cell_type": "markdown",
   "id": "58d4c7e5",
   "metadata": {},
   "source": [
    "### Trace Power S"
   ]
  },
  {
   "cell_type": "code",
   "execution_count": null,
   "id": "385b07e7",
   "metadata": {},
   "outputs": [],
   "source": [
    "def get_trace_power_s(graph, power=2): # number of walks with len s (power) in graph\n",
    "    eigvals = get_adjacency_eigvals(graph)\n",
    "    eigvals_powers = np.power(eigvals, power)\n",
    "    summation = np.sum(eigvals_powers)\n",
    "    return summation"
   ]
  },
  {
   "cell_type": "markdown",
   "id": "c1e710a5",
   "metadata": {},
   "source": [
    "### Phi s (Average Trace Power S)"
   ]
  },
  {
   "cell_type": "code",
   "execution_count": null,
   "id": "dade70de",
   "metadata": {},
   "outputs": [],
   "source": [
    "def get_phi_s(graph): # average number of walks with len s (power) in graph\n",
    "    eigvals = get_adjacency_eigvals(graph)\n",
    "    eigvals_powers = np.power(eigvals, power)\n",
    "    summation = np.sum(eigvals_powers)\n",
    "    avg = summation / len(eigvals)\n",
    "    return summation"
   ]
  },
  {
   "cell_type": "markdown",
   "id": "ec519697",
   "metadata": {},
   "source": [
    "### Centrality of Global Subgraph"
   ]
  },
  {
   "cell_type": "code",
   "execution_count": null,
   "id": "e5b8c640",
   "metadata": {},
   "outputs": [],
   "source": [
    "def get_centrality_of_global_subgraph(graph):\n",
    "    eigvals = get_adjacency_eigvals(graph)\n",
    "    summation = sum([math.exp(value) for value in eigvals])\n",
    "    return summation"
   ]
  },
  {
   "cell_type": "markdown",
   "id": "ca0c5321",
   "metadata": {},
   "source": [
    "### Average Eigvals"
   ]
  },
  {
   "cell_type": "code",
   "execution_count": null,
   "id": "e6b2c80a",
   "metadata": {},
   "outputs": [],
   "source": [
    "def get_average_eigvals(graph):\n",
    "    summation = get_centrality_of_global_subgraph(graph)\n",
    "    ln = math.log(summation)\n",
    "    return ln"
   ]
  },
  {
   "cell_type": "markdown",
   "id": "c256d303",
   "metadata": {},
   "source": [
    "## Automorphism"
   ]
  },
  {
   "cell_type": "code",
   "execution_count": null,
   "id": "0afbaf44",
   "metadata": {},
   "outputs": [],
   "source": [
    "def get_all_automorphism(graph): # automorphism is isomorphism for a graph with itself\n",
    "    dictionary = nx.vf2pp_all_isomorphisms(graph, graph)\n",
    "    return list(dictionary) # return a list of mapping (return a list of dictionary)"
   ]
  },
  {
   "cell_type": "markdown",
   "id": "da8cc40e",
   "metadata": {},
   "source": [
    "### Node Similarity (Vertex Transitivity)"
   ]
  },
  {
   "cell_type": "code",
   "execution_count": null,
   "id": "9b297d1a",
   "metadata": {},
   "outputs": [],
   "source": [
    "def is_node_similar(graph):\n",
    "    automorphisms = get_all_automorphism(graph)\n",
    "    for u,v in graph.edges:\n",
    "        if not any(auto[u] == v for auto in automorphisms):\n",
    "            return False\n",
    "    return True"
   ]
  },
  {
   "cell_type": "markdown",
   "id": "81728fc6",
   "metadata": {},
   "source": [
    "### Symmetry (Edge Transitivity)"
   ]
  },
  {
   "cell_type": "code",
   "execution_count": null,
   "id": "8748ef77",
   "metadata": {},
   "outputs": [],
   "source": [
    "def is_symmetry(graph):\n",
    "    automorphisms = get_all_automorphism(graph)\n",
    "    for u, v in graph.edges:\n",
    "        for x, y in graph.edges:\n",
    "            if not any(auto[u] == x and auto[v] ==y for auto in automorphisms):\n",
    "                return False\n",
    "    return True"
   ]
  },
  {
   "cell_type": "markdown",
   "id": "e867bac0",
   "metadata": {},
   "source": [
    "### Laplacian Energy"
   ]
  },
  {
   "cell_type": "code",
   "execution_count": null,
   "id": "81a6bc1c",
   "metadata": {},
   "outputs": [],
   "source": [
    "def get_laplacian_energy(graph):\n",
    "    if not nx.is_connected(graph):\n",
    "        raise Exception(\"Graph Must Be Connected\")\n",
    "    if nx.is_directed(graph):\n",
    "        raise Exception(\"Graph Must Be Undirected\")\n",
    "    eigenvalues = get_adjacency_eigvals(graph)\n",
    "    laplacian_energy = sum([abs(value) for value in eigenvalues])\n",
    "    return laplacian_energy"
   ]
  },
  {
   "cell_type": "code",
   "execution_count": null,
   "id": "67187de6",
   "metadata": {},
   "outputs": [],
   "source": [
    "def get_laplacian_energy2(graph):\n",
    "    if not nx.is_connected(graph):\n",
    "        raise Exception(\"Graph Must Be Connected\")\n",
    "    if nx.is_directed(graph):\n",
    "        raise Exception(\"Graph Must Be Undirected\")\n",
    "    eigenvalues = get_adjacency_eigvals(graph)\n",
    "    summation = sum([value if value > 0 else 0 for value in eigenvalues])\n",
    "    laplacian_energy = summation * 2\n",
    "    return laplacian_energy"
   ]
  },
  {
   "cell_type": "code",
   "execution_count": null,
   "id": "702e0bf4",
   "metadata": {},
   "outputs": [],
   "source": [
    "def get_laplacian_energy3(graph):\n",
    "    if not nx.is_connected(graph):\n",
    "        raise Exception(\"Graph Must Be Connected\")\n",
    "    if nx.is_directed(graph):\n",
    "        raise Exception(\"Graph Must Be Undirected\")\n",
    "    eigenvalues = get_laplacian_evigal(graph)\n",
    "    n = graph.number_of_nodes()\n",
    "    m = graph.number_of_edges()\n",
    "    constant = (2 * m) / n\n",
    "    laplacian_energy = sum([abs(value - constant) for value in eigenvalues])\n",
    "    return laplacian_energy"
   ]
  },
  {
   "cell_type": "markdown",
   "id": "4ace1538",
   "metadata": {},
   "source": [
    "### Girth"
   ]
  },
  {
   "cell_type": "code",
   "execution_count": null,
   "id": "cc0af951",
   "metadata": {},
   "outputs": [],
   "source": [
    "def get_graph_girth(graph):\n",
    "    cycle_basis = nx.minimum_cycle_basis(graph)\n",
    "\n",
    "    # Find the shortest cycle length\n",
    "    girth = min(len(cycle) for cycle in cycle_basis)\n",
    "    return girth"
   ]
  },
  {
   "cell_type": "markdown",
   "id": "04fed769",
   "metadata": {},
   "source": [
    "### Plotting Graphs"
   ]
  },
  {
   "cell_type": "code",
   "execution_count": null,
   "id": "2d7a1a0b",
   "metadata": {},
   "outputs": [],
   "source": [
    "def show_graph(graph, path=None, labels=False):\n",
    "    pos = nx.circular_layout(graph)\n",
    "    plt.figure(figsize = (12, 12))\n",
    "    nx.draw_networkx(graph, pos, with_labels=labels)\n",
    "    if path != None:\n",
    "        plt.savefig(path+'.png')\n",
    "    plt.show()"
   ]
  },
  {
   "cell_type": "markdown",
   "id": "4323171b",
   "metadata": {},
   "source": [
    "### Degree Distribution"
   ]
  },
  {
   "cell_type": "code",
   "execution_count": null,
   "id": "52e483f1",
   "metadata": {},
   "outputs": [],
   "source": [
    "def degree_distribution(graph, path=None, style='-o'):\n",
    "    degrees = [graph.degree(n) for n in graph.nodes()]\n",
    "    degrees = list(sorted(degrees))\n",
    "    degree_freq_dic = Counter(degrees)\n",
    "    x_axis = degree_freq_dic.keys()\n",
    "    y_axis = degree_freq_dic.values()\n",
    "    y_axis = np.array(list(y_axis)) / len(degrees)\n",
    "    \n",
    "    plt.title('Degree Distribution')\n",
    "    plt.xlabel(\"Degree\")\n",
    "    plt.ylabel(\"Frequesncy\")\n",
    "    plt.plot(x_axis, y_axis, style, label='degree probability')\n",
    "    \n",
    "    upper_y = np.array([0, max(y_axis)])\n",
    "    avg = np.average(degrees)\n",
    "    upper_x = np.array([avg, avg])\n",
    "    plt.plot(upper_x, upper_y, color='red', linestyle='-.', label='mean')\n",
    "    plt.legend(loc='best') # setting best location for labels\n",
    "    \n",
    "    if path != None:\n",
    "        plt.savefig(path+'.png')\n",
    "    plt.show()"
   ]
  },
  {
   "cell_type": "markdown",
   "id": "8fdd4b30",
   "metadata": {},
   "source": [
    "### Double-Log"
   ]
  },
  {
   "cell_type": "code",
   "execution_count": null,
   "id": "2985305f",
   "metadata": {},
   "outputs": [],
   "source": [
    "def double_log(graph, path=None, style='-o'):\n",
    "    degrees = [graph.degree(n) for n in graph.nodes()]\n",
    "    degrees = list(sorted(degrees))\n",
    "    degree_freq_dic = Counter(degrees)\n",
    "    unique_degrees = list(degree_freq_dic.keys())\n",
    "    frequency = list(degree_freq_dic.values())\n",
    "    x_axis = np.log(unique_degrees)\n",
    "    y_axis = np.log(frequency)\n",
    "    y_axis = np.array(list(y_axis)) / len(degrees)\n",
    "    plt.xlabel(\"Degree\")\n",
    "    plt.ylabel(\"Degree Distribution\")\n",
    "    plt.title('Double Log')\n",
    "    plt.plot(x_axis, y_axis, style, label='degree distribution')\n",
    "    if path != None:\n",
    "        plt.savefig(path+'.png')\n",
    "    plt.show()"
   ]
  },
  {
   "cell_type": "markdown",
   "id": "5c1c17a5",
   "metadata": {},
   "source": [
    "## Comparing Plots"
   ]
  },
  {
   "cell_type": "code",
   "execution_count": null,
   "id": "404e0974",
   "metadata": {},
   "outputs": [],
   "source": [
    "def compare_datas(datas, labels, x_label='', y_label='', title='', style='-o', color=COLOR, path=None):\n",
    "    plt.xlabel(x_label)\n",
    "    plt.ylabel(y_label)\n",
    "    plt.title(title)\n",
    "    for i in range(len(datas)):\n",
    "        x_axis = list(range(len(datas[i])))\n",
    "        plt.plot(x_axis, datas[i], style, label=labels[i], color=color[i])\n",
    "    if path != None:\n",
    "        plt.savefig(path+'.png')\n",
    "    plt.legend(loc='best')\n",
    "    plt.show()"
   ]
  },
  {
   "cell_type": "markdown",
   "id": "b34e69dc",
   "metadata": {},
   "source": [
    "# PDF"
   ]
  },
  {
   "cell_type": "markdown",
   "id": "4e814067",
   "metadata": {},
   "source": [
    "##### scipy Library"
   ]
  },
  {
   "cell_type": "code",
   "execution_count": null,
   "id": "7744811c",
   "metadata": {},
   "outputs": [],
   "source": [
    "def draw_pdf(data, x_label='data number', y_label='value', title='pdf function', style='-o', color=COLOR, path=None):\n",
    "    data = np.array(list(sorted(data)))\n",
    "    mean = np.mean(data)\n",
    "    std = np.std(data)\n",
    "    pdf = st.norm.pdf(data, mean, std)\n",
    "    \n",
    "    plt.xlabel(x_label)\n",
    "    plt.ylabel(y_label)\n",
    "    plt.title(title)\n",
    "    plt.plot(data, pdf, style)\n",
    "    plt.legend(loc='best')\n",
    "    if path != None:\n",
    "        plt.savefig(path+'.png')\n",
    "    plt.show()"
   ]
  },
  {
   "cell_type": "code",
   "execution_count": null,
   "id": "c4b60baa",
   "metadata": {},
   "outputs": [],
   "source": [
    "def draw_compare_pdf(datas,  x_label='data number', y_label='value', title='pdf function', style='-o', color=COLOR, path=None):\n",
    "    for i in range(len(datas)):\n",
    "        data = np.array(list(sorted(datas[i])))\n",
    "        mean = np.mean(data)\n",
    "        std = np.std(data)\n",
    "        pdf = st.norm.pdf(data, mean, std)\n",
    "        plt.plot(data, pdf, style, label=labels[i], color=color[i])\n",
    "    \n",
    "    plt.xlabel(x_label)\n",
    "    plt.ylabel(y_label)\n",
    "    plt.title(title)\n",
    "    plt.legend(loc='best')\n",
    "    if path != None:\n",
    "        plt.savefig(path+'.png')\n",
    "    plt.show()"
   ]
  },
  {
   "cell_type": "markdown",
   "id": "3317cf5e",
   "metadata": {},
   "source": [
    "##### Seaborn Library"
   ]
  },
  {
   "cell_type": "code",
   "execution_count": null,
   "id": "4d840a87",
   "metadata": {},
   "outputs": [],
   "source": [
    "def draw_pdf2(data, x_label='data number', y_label='value', title='pdf function', style='-o', color=COLOR, path=None):\n",
    "    sns.kdeplot(data , bw = 0.5 , fill = True)\n",
    "    \n",
    "    plt.xlabel(x_label)\n",
    "    plt.ylabel(y_label)\n",
    "    plt.title(title)\n",
    "    if path != None:\n",
    "        plt.savefig(path+'.png')\n",
    "    plt.show()"
   ]
  },
  {
   "cell_type": "code",
   "execution_count": null,
   "id": "8dd057d6",
   "metadata": {},
   "outputs": [],
   "source": [
    "def draw_compare_pdf2(datas, labels, x_label='data number', y_label='value', title='pdf function', style='-o', color=COLOR, path=None):\n",
    "    for i in range(len(datas)):\n",
    "        sns.kdeplot(datas[i], color=color[i], bw=0.5 , fill=True, label=labels[i])\n",
    "    \n",
    "    plt.xlabel(x_label)\n",
    "    plt.ylabel(y_label)\n",
    "    plt.title(title)\n",
    "    if path != None:\n",
    "        plt.savefig(path+'.png')\n",
    "    \n",
    "    plt.legend(loc='best')\n",
    "    plt.show()"
   ]
  },
  {
   "cell_type": "code",
   "execution_count": null,
   "id": "dbd51602",
   "metadata": {},
   "outputs": [],
   "source": [
    "def draw_pdf3(data, x_label='data number', y_label='value', title='pdf function', style='-o', color=COLOR, path=None):\n",
    "    sns.set_style(\"whitegrid\")  # Setting style(Optional)\n",
    "    sns.distplot(x=data, bins=10, kde=True, color='teal', kde_kws=dict(linewidth=4, color='green')) #kde for normal distribution\n",
    "    \n",
    "    plt.xlabel(x_label)\n",
    "    plt.ylabel(y_label)\n",
    "    plt.title(title)\n",
    "    if path != None:\n",
    "        plt.savefig(path+'.png')\n",
    "    plt.show()"
   ]
  },
  {
   "cell_type": "code",
   "execution_count": null,
   "id": "f1c88ab9",
   "metadata": {},
   "outputs": [],
   "source": [
    "def draw_compare_pdf3(datas, labels, x_label='data number', y_label='value', title='pdf function', style='-o', color=COLOR, path=None):\n",
    "    for i in range(len(datas)):\n",
    "        sns.set_style(\"whitegrid\")  # Setting style(Optional)\n",
    "        sns.distplot(x=datas[i], bins=10, kde=True, color=color[i], kde_kws=dict(linewidth=4, color=color[i]), label=labels[i]) #kde for normal distribution\n",
    "    plt.xlabel(x_label)\n",
    "    plt.ylabel(y_label)\n",
    "    plt.title(title)\n",
    "    if path != None:\n",
    "        plt.savefig(path+'.png')\n",
    "    plt.show()"
   ]
  },
  {
   "cell_type": "markdown",
   "id": "1b2d88c2",
   "metadata": {},
   "source": [
    "## Data Details"
   ]
  },
  {
   "cell_type": "markdown",
   "id": "dc5b3372",
   "metadata": {},
   "source": [
    "### c.i plots"
   ]
  },
  {
   "cell_type": "code",
   "execution_count": null,
   "id": "253e5165",
   "metadata": {},
   "outputs": [],
   "source": [
    "def coefficient_interval_plot(data, path=None, alpha=0.95):\n",
    "    x = np.array([i for i in range(len(data))])\n",
    "    y = np.array(data)\n",
    "    # plotting\n",
    "    plt.plot(y, x,'o', color='blue', label='data')\n",
    "    \n",
    "    # confidence intervals\n",
    "    p = ((1.0-alpha)/2.0) * 100\n",
    "    # percentile function returns the numbers which that percent of \n",
    "    # the array elements areless equal then that number\n",
    "    lower =  np.percentile(y, p) \n",
    "    p = (alpha+((1.0-alpha)/2.0)) * 100\n",
    "    upper =  np.percentile(y, p)\n",
    "#     print(f\"\\n{alpha*100} confidence interval {lower} and {upper}\")\n",
    "    \n",
    "    # c.i upper & lower\n",
    "    upper_y = np.array([0, len(data)])\n",
    "    upper_x = np.array([upper, upper])\n",
    "    plt.plot(upper_x, upper_y, color='red', linestyle='-.', label='upper c.i')\n",
    "    \n",
    "    lower_y = np.array([0, len(data)])\n",
    "    lower_x = np.array([lower, lower])\n",
    "    plt.plot(lower_x, lower_y, color='orange', linestyle='-.', label='lower c.i')\n",
    "    \n",
    "    ci_x = np.array([lower, upper])\n",
    "    ci_y = np.array([0, 0])\n",
    "    plt.plot(ci_x, ci_y, '-', color='green', label='c.i')\n",
    "    plt.legend(loc='best')\n",
    "    if path != None:\n",
    "        plt.savefig(path+'.png')\n",
    "    plt.show()"
   ]
  },
  {
   "cell_type": "code",
   "execution_count": null,
   "id": "01652f14",
   "metadata": {},
   "outputs": [],
   "source": [
    "def coefficient_interval_plot2(data, path=None, alpha=0.95):\n",
    "    x = np.array(list(range(len(data))))\n",
    "    y = np.array(data)\n",
    "    # Plotting data\n",
    "    plt.plot(x, y, '-o', color='red', label='data')\n",
    "    \n",
    "    # confidence intervals\n",
    "    ci = (1.0-alpha) * np.std(y) / np.mean(y)\n",
    "    mean = np.mean(y)\n",
    "    avg = [mean for i in range(len(data))]\n",
    "    \n",
    "    # Plot the confidence interval\n",
    "    plt.fill_between(x, (avg-ci), (avg+ci), color='blue', alpha=0.1)\n",
    "    plt.plot(x, (avg-ci), '--', color='blue', label='-*ci')\n",
    "    plt.plot(x, (avg+ci), '--', color='blue', label='+*ci')\n",
    "    plt.fill_between(x, (avg-2*ci), (avg+2*ci), color='green', alpha=.1)\n",
    "    plt.plot(x, (avg-2*ci), '--', color='green', label='-2*ci')\n",
    "    plt.plot(x, (avg+2*ci), '--', color='green', label='+2*ci')\n",
    "    plt.legend(loc='best')\n",
    "    if path != None:\n",
    "        plt.savefig(path+'.png')\n",
    "    plt.show()"
   ]
  },
  {
   "cell_type": "code",
   "execution_count": null,
   "id": "34b9147f",
   "metadata": {},
   "outputs": [],
   "source": [
    "def coefficient_interval_plot3(data, path=None, alpha=0.95):\n",
    "    x = np.array(list(range(len(data))))\n",
    "    y = np.array(data)\n",
    "    # Plotting data\n",
    "    plt.plot(x, y, '-o', color='red', label='data')\n",
    "    \n",
    "    # Define the confidence interval\n",
    "    ci = (1.0-alpha) * np.std(y) / np.mean(y)\n",
    "    \n",
    "    # Plot the confidence interval\n",
    "    plt.fill_between(x, (y-ci), (y+ci), color='blue', alpha=0.1)\n",
    "    plt.plot(x, (y-2*ci), '--', color='blue', label='-*ci')\n",
    "    plt.plot(x, (y+2*ci), '--', color='blue', label='+*ci')\n",
    "    plt.fill_between(x, (y-2*ci), (y+2*ci), color='green', alpha=.1)\n",
    "    plt.plot(x, (y-2*ci), '--', color='green', label='-2*ci')\n",
    "    plt.plot(x, (y+2*ci), '--', color='green', label='+2*ci')\n",
    "    plt.legend(loc='best')\n",
    "    if path != None:\n",
    "        plt.savefig(path+'.png')\n",
    "    plt.show()"
   ]
  },
  {
   "cell_type": "code",
   "execution_count": null,
   "id": "c30d6fd7",
   "metadata": {},
   "outputs": [],
   "source": [
    "def coefficient_interval_plot4(data, path=None):\n",
    "    x = np.array(list(range(len(data))))\n",
    "    y = np.array(data)\n",
    "    y.astype('float64')\n",
    "                 \n",
    "    # Plotting data\n",
    "    plt.plot(x, y, '-o', color='red', label='data')\n",
    "    \n",
    "    low, high = st.norm.interval(alpha=0.9, loc=np.mean(data), scale=st.sem(data))\n",
    "    low2, high2 = st.norm.interval(alpha=0.95, loc=np.mean(data), scale=st.sem(data))\n",
    "    low3, high3 = st.norm.interval(alpha=0.99, loc=np.mean(data), scale=st.sem(data))\n",
    "    \n",
    "    # Plot the confidence interval\n",
    "    plt.fill_between(x, [low3 for i in x], [high3 for i in x], color='green', alpha=0.1)\n",
    "    plt.plot(x, [low3 for i in x], '--', color='green', label='alpha=0.99')\n",
    "    plt.plot(x, [high3 for i in x], '--', color='green')\n",
    "    \n",
    "    plt.fill_between(x, [low2 for i in x], [high2 for i in x], color='orange', alpha=0.1)\n",
    "    plt.plot(x, [low2 for i in x], '--', color='orange', label='0.95')\n",
    "    plt.plot(x, [high2 for i in x], '--', color='orange')\n",
    "    \n",
    "    plt.fill_between(x, [low for i in x], [high for i in x], color='blue', alpha=0.1)\n",
    "    plt.plot(x, [low for i in x], '--', color='blue', label='0.9')\n",
    "    plt.plot(x, [high for i in x], '--', color='blue')\n",
    "    plt.legend(loc='best')\n",
    "    if path != None:\n",
    "        plt.savefig(path+'.png')\n",
    "    plt.show()"
   ]
  },
  {
   "cell_type": "code",
   "execution_count": null,
   "id": "67788bdc",
   "metadata": {},
   "outputs": [],
   "source": [
    "def coefficient_interval_plot5(data, path=None):\n",
    "    x = np.array(list(range(len(data))))\n",
    "    y = np.array(data)\n",
    "    y.astype('float64')\n",
    "                 \n",
    "    # Plotting data\n",
    "    plt.plot(x, y, '-o', color='red', label='data')\n",
    "    \n",
    "    # Plot the confidence interval\n",
    "    alpha = 0.99\n",
    "    p = ((1.0-alpha)/2.0) * 100\n",
    "    # percentile function returns the numbers which that percent of \n",
    "    # the array elements areless equal then that number\n",
    "    lower =  np.percentile(y, p) \n",
    "    p = (alpha+((1.0-alpha)/2.0)) * 100\n",
    "    upper =  np.percentile(y, p)\n",
    "    \n",
    "    plt.fill_between(x, [lower for i in x], [upper for i in x], color='green', alpha=0.1)\n",
    "    plt.plot(x, [lower for i in x], '--', color='green', label='alpha=0.99')\n",
    "    plt.plot(x, [upper for i in x], '--', color='green')\n",
    "    \n",
    "    alpha = 0.95\n",
    "    p = ((1.0-alpha)/2.0) * 100\n",
    "    # percentile function returns the numbers which that percent of \n",
    "    # the array elements areless equal then that number\n",
    "    lower =  np.percentile(y, p) \n",
    "    p = (alpha+((1.0-alpha)/2.0)) * 100\n",
    "    upper =  np.percentile(y, p)\n",
    "    \n",
    "    plt.fill_between(x, [lower for i in x], [upper for i in x], color='orange', alpha=0.1)\n",
    "    plt.plot(x, [lower for i in x], '--', color='orange', label='0.95')\n",
    "    plt.plot(x, [upper for i in x], '--', color='orange')\n",
    "    \n",
    "    alpha = 0.9\n",
    "    p = ((1.0-alpha)/2.0) * 100\n",
    "    # percentile function returns the numbers which that percent of \n",
    "    # the array elements areless equal then that number\n",
    "    lower =  np.percentile(y, p) \n",
    "    p = (alpha+((1.0-alpha)/2.0)) * 100\n",
    "    upper =  np.percentile(y, p)\n",
    "    \n",
    "    plt.fill_between(x, [lower for i in x], [upper for i in x], color='blue', alpha=0.1)\n",
    "    plt.plot(x, [lower for i in x], '--', color='blue', label='0.9')\n",
    "    plt.plot(x, [upper for i in x], '--', color='blue')\n",
    "    plt.legend(loc='best')\n",
    "    if path != None:\n",
    "        plt.savefig(path+'.png')\n",
    "    plt.show()"
   ]
  },
  {
   "cell_type": "markdown",
   "id": "d3a6ffc2",
   "metadata": {},
   "source": [
    "### Mean & Variance"
   ]
  },
  {
   "cell_type": "code",
   "execution_count": null,
   "id": "c2904f1c",
   "metadata": {},
   "outputs": [],
   "source": [
    "def get_details(data):\n",
    "    print('mean: ', np.mean(data))\n",
    "    print('variance: ', np.var(data))\n",
    "    print('std: ', np.std)"
   ]
  },
  {
   "cell_type": "markdown",
   "id": "09da7103",
   "metadata": {},
   "source": [
    "# Line Graph"
   ]
  },
  {
   "cell_type": "code",
   "execution_count": null,
   "id": "f3a50110",
   "metadata": {},
   "outputs": [],
   "source": [
    "def generate_line_graph(graph):\n",
    "    return nx.line_graph(graph)"
   ]
  },
  {
   "cell_type": "markdown",
   "id": "b09b49fa",
   "metadata": {},
   "source": [
    "# Random Semi Regular Bipartite Graph (RSRBG)"
   ]
  },
  {
   "cell_type": "code",
   "execution_count": null,
   "id": "c70b5a85",
   "metadata": {},
   "outputs": [],
   "source": [
    "def rewire_edge_rsrbg(graph, node1, node2):\n",
    "    for u, v in graph.edges:\n",
    "        n1_node = min([u, v])\n",
    "        n2_node = max([u, v])\n",
    "        if n1_node != node1 and n2_node != node2 and (not graph.has_edge(n1_node, node2)) and (not graph.has_edge(node1, n2_node)):\n",
    "            graph.remove_edge(u, v)\n",
    "            graph.add_edge(n1_node, node2)\n",
    "            graph.add_edge(node1, n2_node)\n",
    "            break\n",
    "\n",
    "\n",
    "\n",
    "def generate_rsrbg(d1, d2, n, seed=None):\n",
    "    if (n * d2) % (d1 + d2) != 0:\n",
    "        raise Exception(f\"can't make graph with {n} nodes!\")\n",
    "        \n",
    "    if seed != None:\n",
    "        random.seed(seed)\n",
    "    \n",
    "    n1 = int((n * d2) / (d1 + d2))\n",
    "    n2 = n - n1\n",
    "    \n",
    "    graph = nx.Graph()\n",
    "    graph.add_nodes_from(list(range(n)))\n",
    "    \n",
    "    n1_stubs = list(range(n1)) * d1\n",
    "    n2_stubs = list(range(n1, n)) * d2\n",
    "    \n",
    "    while len(n1_stubs) > 0:\n",
    "        rnd1 = random.randint(0, len(n1_stubs) - 1)\n",
    "        rnd2 = random.randint(0, len(n2_stubs) - 1)\n",
    "        if graph.has_edge(n1_stubs[rnd1], n2_stubs[rnd2]):\n",
    "            continue\n",
    "        graph.add_edge(n1_stubs[rnd1], n2_stubs[rnd2])\n",
    "        n1_stubs.pop(rnd1)\n",
    "        n2_stubs.pop(rnd2)\n",
    "        \n",
    "        has_chance = False\n",
    "        for s1 in n1_stubs:\n",
    "            for s2 in n2_stubs:\n",
    "                if not graph.has_edge(s1, s2):\n",
    "                    has_chance = True\n",
    "                    break\n",
    "            if has_chance:\n",
    "                break;\n",
    "        \n",
    "        if not has_chance: # we can't continue and add anymore edge\n",
    "            for i in range(len(n1_stubs)):\n",
    "                rewire_edge_rsrbg(graph, n1_stubs[i], n2_stubs[i])\n",
    "            break\n",
    "        \n",
    "    return graph"
   ]
  },
  {
   "cell_type": "markdown",
   "id": "0d37455d",
   "metadata": {},
   "source": [
    "# Random Semi Regular Graph(RSRG)"
   ]
  },
  {
   "cell_type": "code",
   "execution_count": null,
   "id": "34c468c8",
   "metadata": {},
   "outputs": [],
   "source": [
    "def rewire_edge_rsrg(graph, node1, node2):\n",
    "    for u, v in graph.edges:\n",
    "        if not any(i in [u, v] for i in [node1, node2]): #node1 and node2 are completely different from u and v (no same value))\n",
    "            if (not graph.has_edge(u, node1)) and (not graph.has_edge(node2, v)):\n",
    "                graph.add_edge(u, node1)\n",
    "                graph.add_edge(v, node2)\n",
    "                break\n",
    "            elif (not graph.has_edge(v, node1)) and (not graph.has_edge(node2, u)):\n",
    "                graph.add_edge(v, node1)\n",
    "                graph.add_edge(u, node2)\n",
    "                break\n",
    "\n",
    "\n",
    "def should_add_edge(p):\n",
    "    if random.random() <= p:\n",
    "        return True\n",
    "    return False\n",
    "\n",
    "\n",
    "def generate_rsrg(p, d1, d2, n, seed=None):\n",
    "    if p < 0 or p > 1:\n",
    "        raise Exception(\"p must be between 0 and 1\")\n",
    "    \n",
    "    if seed != None:\n",
    "        random.seed(seed)\n",
    "    \n",
    "    n1 = math.floor(n * (1 - p))\n",
    "    n2 = n - n1\n",
    "    \n",
    "    n1_stubs = list(range(n1)) * d1\n",
    "    n2_stubs = list(range(n1, n)) * d2\n",
    "    stubs = n1_stubs + n2_stubs\n",
    "    \n",
    "    graph = nx.Graph()\n",
    "    graph.add_nodes_from(list(range(n)))\n",
    "    \n",
    "    while len(stubs) > 1:\n",
    "        if len(stubs) == 2:\n",
    "            if graph.has_edge(stubs[0], stubs[1]) or stubs[0] == stubs[1]:\n",
    "                if should_add_edge(p):\n",
    "                    rewire_edge_rsrg(graph, stubs[0], stubs[1])\n",
    "            else:\n",
    "                if should_add_edge(p):\n",
    "                    graph.add_edge(stubs[0], stubs[1])\n",
    "            break\n",
    "        else:\n",
    "            rnd = random.randint(0, len(stubs) - 1)\n",
    "            node1 = stubs[rnd]\n",
    "            stubs.pop(rnd)\n",
    "            rnd = random.randint(0, len(stubs) - 1)\n",
    "            node2 = stubs[rnd]\n",
    "            stubs.pop(rnd)\n",
    "            if node1 == node2 or graph.has_edge(node1, node2):\n",
    "                stubs.append(node1)\n",
    "                stubs.append(node2)\n",
    "            else:\n",
    "                if should_add_edge(p):\n",
    "                    graph.add_edge(node1, node2)\n",
    "            \n",
    "            has_chance = False\n",
    "            for i in range(len(stubs)):\n",
    "                j = i\n",
    "                while(j < len(stubs)):\n",
    "                    if stubs[i] != stubs[j] and (not graph.has_edge(stubs[i], stubs[j])):\n",
    "                        has_chance = True\n",
    "                    j = j + 1\n",
    "                if has_chance: # we still can continue\n",
    "                    break\n",
    "            \n",
    "            if not has_chance: # we can't continue and add anymore edge\n",
    "                break\n",
    "            \n",
    "    \n",
    "    return graph"
   ]
  },
  {
   "cell_type": "markdown",
   "id": "e4895488",
   "metadata": {},
   "source": [
    "# Calculating & Showing Girth"
   ]
  },
  {
   "cell_type": "code",
   "execution_count": null,
   "id": "ca54bf0d",
   "metadata": {},
   "outputs": [],
   "source": [
    "def calculate_show_girth(graphs):\n",
    "    girths = []\n",
    "    for graph in graphs:\n",
    "        girth = get_graph_girth(graph)\n",
    "        girths.append(girth)\n",
    "    \n",
    "    get_details(girths)\n",
    "    coefficient_interval_plot(girths)\n",
    "    coefficient_interval_plot2(girths)\n",
    "    coefficient_interval_plot3(girths)\n",
    "    coefficient_interval_plot4(girths)\n",
    "    coefficient_interval_plot5(girths)"
   ]
  },
  {
   "cell_type": "markdown",
   "id": "edcafff7",
   "metadata": {},
   "source": [
    "# ER"
   ]
  },
  {
   "cell_type": "code",
   "execution_count": null,
   "id": "2eb417c1",
   "metadata": {
    "scrolled": false
   },
   "outputs": [],
   "source": [
    "er_seed_values = random.sample(range(1, 100000), GRAPH_NUMBER) # generating GRAPH_NUMBER unique random number to be used as seed\n",
    "\n",
    "randoms = []\n",
    "for i in range(GRAPH_NUMBER):\n",
    "    print('graph no: ', i)\n",
    "    graph = nx.erdos_renyi_graph(NODE_NUMBER, EDGE_PROBABILITY, seed=er_seed_values[i])\n",
    "    randoms.append(graph)"
   ]
  },
  {
   "cell_type": "code",
   "execution_count": null,
   "id": "9a57d8b8",
   "metadata": {},
   "outputs": [],
   "source": [
    "calculate_show_girth(randoms)"
   ]
  },
  {
   "cell_type": "markdown",
   "id": "e3ddd162",
   "metadata": {},
   "source": [
    "### Scale-Free"
   ]
  },
  {
   "cell_type": "code",
   "execution_count": null,
   "id": "1d2657e6",
   "metadata": {
    "scrolled": true
   },
   "outputs": [],
   "source": [
    "sf_seed_values = random.sample(range(1, 100000), GRAPH_NUMBER) # generating GRAPH_NUMBER unique random number to be used as seed\n",
    "\n",
    "m = round(((EDGE_NUMBER) / NODE_NUMBER))\n",
    "\n",
    "scale_frees = []\n",
    "\n",
    "for i in range(GRAPH_NUMBER):\n",
    "    print('Graph no: ', i)\n",
    "    graph = nx.barabasi_albert_graph(n=NODE_NUMBER, m=m, seed=sf_seed_values[i], initial_graph=None)\n",
    "    scale_frees.append(graph)\n",
    "    \n",
    "#     show_graph(graph)"
   ]
  },
  {
   "cell_type": "code",
   "execution_count": null,
   "id": "ee67aeac",
   "metadata": {},
   "outputs": [],
   "source": [
    "calculate_show_girth(scale_frees)"
   ]
  },
  {
   "cell_type": "markdown",
   "id": "e86998b7",
   "metadata": {},
   "source": [
    "### Small-World (watts-storgatz)"
   ]
  },
  {
   "cell_type": "code",
   "execution_count": null,
   "id": "a7e1fb38",
   "metadata": {
    "scrolled": true
   },
   "outputs": [],
   "source": [
    "sw_seed_values = random.sample(range(1, 100000), GRAPH_NUMBER) # generating GRAPH_NUMBER unique random number to be used as seed\n",
    "\n",
    "small_worlds = []\n",
    "\n",
    "k = round(((2 * EDGE_NUMBER) / NODE_NUMBER))\n",
    "\n",
    "for i in range(GRAPH_NUMBER):\n",
    "    print('Graph No: ', i)\n",
    "    # we want to have EDGE_NUMBER edge, and in the base graph we have k degree\n",
    "    # for each node. And we know summation of node degrees, is 2 * EDGE_NUMBER\n",
    "    # so we have tohave k = (2 * EDGE_NUMBER) / NODE_NUMBER  for each node.\n",
    "    rewiring_probability = random.uniform(0.2, 0.3)\n",
    "    graph = graph = nx.watts_strogatz_graph(n=NODE_NUMBER, k=k, p=rewiring_probability, seed=sw_seed_values[i])\n",
    "    small_worlds.append(graph)\n",
    "#     show_graph(graph)"
   ]
  },
  {
   "cell_type": "code",
   "execution_count": null,
   "id": "f746d977",
   "metadata": {},
   "outputs": [],
   "source": [
    "calculate_show_girth(small_worlds)"
   ]
  },
  {
   "cell_type": "markdown",
   "id": "158fde36",
   "metadata": {},
   "source": [
    "### RSRBG"
   ]
  },
  {
   "cell_type": "code",
   "execution_count": null,
   "id": "d5480e1a",
   "metadata": {},
   "outputs": [],
   "source": [
    "seed_values = random.sample(range(1, 100000), GRAPH_NUMBER) # generating GRAPH_NUMBER unique random number to be used as seed\n",
    "rsrbgs = []\n",
    "for i in range(GRAPH_NUMBER):\n",
    "    d1, d2 = random.choice(VALID_D_PAIRS_FOR_NODE_NUMBER)\n",
    "    rsrbgs.append(generate_rsrbg(d1, d2, NODE_NUMBER))\n",
    "    average_d = (2 * d1 * d2) / (d1 + d2)"
   ]
  },
  {
   "cell_type": "code",
   "execution_count": null,
   "id": "8282b14d",
   "metadata": {},
   "outputs": [],
   "source": [
    "calculate_show_girth(rsrbgs)"
   ]
  },
  {
   "cell_type": "markdown",
   "id": "66fdb083",
   "metadata": {},
   "source": [
    "### RSRG"
   ]
  },
  {
   "cell_type": "code",
   "execution_count": null,
   "id": "1670ab59",
   "metadata": {
    "scrolled": true
   },
   "outputs": [],
   "source": [
    "seed_values = random.sample(range(1, 34098),GRAPH_NUMBER)\n",
    "\n",
    "rsrgs = []\n",
    "probability_of_rsrg = []\n",
    "d1_of_rsrg = []\n",
    "d2_of_rsrg = []\n",
    "for i in range(GRAPH_NUMBER):\n",
    "    average_d = 0\n",
    "    p = 0\n",
    "    d1 = 0\n",
    "    d2 = 0\n",
    "    n = 0\n",
    "    while average_d < LOWER_AVERAGE_D_RSRG or average_d > UPPER_AVERAGE_D_RSRG or p < LOWER_RSRG_P:\n",
    "        p = random.random()\n",
    "        d1 = random.randint(LOWER_COPY_NUMBER_D1, UPPER_COPY_NUMBER_D1)\n",
    "        d2 = random.randint(LOWER_COPY_NUMBER_D1, UPPER_COPY_NUMBER_D1)\n",
    "        n = NODE_NUMBER\n",
    "        average_d = (d1 * (1 - p) + p * d2) * p\n",
    "    \n",
    "    \n",
    "    rsrgs.append(generate_rsrg(p, d1, d2, n, seed=seed_values[i]))\n",
    "    print(f'p: {p}, d1: {d1}, d2: {d2}, <d>: {average_d}')\n",
    "    probability_of_rsrg.append(p)\n",
    "    d1_of_rsrg.append(d1)\n",
    "    d2_of_rsrg.append(d2)"
   ]
  },
  {
   "cell_type": "code",
   "execution_count": null,
   "id": "ede72965",
   "metadata": {},
   "outputs": [],
   "source": [
    "calculate_show_girth(rsrgs)"
   ]
  },
  {
   "cell_type": "markdown",
   "id": "6edb993e",
   "metadata": {},
   "source": [
    "### Random Regular Graph"
   ]
  },
  {
   "cell_type": "code",
   "execution_count": null,
   "id": "a7a98c89",
   "metadata": {},
   "outputs": [],
   "source": [
    "rr_seed_values = random.sample(range(1, 100000), GRAPH_NUMBER) # generating GRAPH_NUMBER unique random number to be used as seed\n",
    "\n",
    "rrs = []\n",
    "for i in range(GRAPH_NUMBER):\n",
    "    d = random.choice(RANDOM_REGULAR_NUMBER_RANGE)\n",
    "    graph = nx.random_regular_graph(d, NODE_NUMBER, rr_seed_values[i])\n",
    "    rrs.append(graph)"
   ]
  },
  {
   "cell_type": "code",
   "execution_count": null,
   "id": "4a5ba3a7",
   "metadata": {},
   "outputs": [],
   "source": [
    "calculate_show_girth(rrs)"
   ]
  }
 ],
 "metadata": {
  "kernelspec": {
   "display_name": "Python 3 (ipykernel)",
   "language": "python",
   "name": "python3"
  },
  "language_info": {
   "codemirror_mode": {
    "name": "ipython",
    "version": 3
   },
   "file_extension": ".py",
   "mimetype": "text/x-python",
   "name": "python",
   "nbconvert_exporter": "python",
   "pygments_lexer": "ipython3",
   "version": "3.11.3"
  }
 },
 "nbformat": 4,
 "nbformat_minor": 5
}
