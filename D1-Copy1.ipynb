{
 "cells": [
  {
   "cell_type": "code",
   "execution_count": null,
   "id": "7cc355a5",
   "metadata": {},
   "outputs": [],
   "source": [
    "import numpy as np\n",
    "import networkx as nx\n",
    "import matplotlib.pyplot as plt\n",
    "import random\n",
    "from collections import Counter\n",
    "import math"
   ]
  },
  {
   "cell_type": "markdown",
   "id": "99b6db7d",
   "metadata": {},
   "source": [
    "# Init Variables"
   ]
  },
  {
   "cell_type": "code",
   "execution_count": null,
   "id": "1104bcf3",
   "metadata": {},
   "outputs": [],
   "source": [
    "NODE_NUMBER = 1000\n",
    "MAX_EDGE_NUMBER = (NODE_NUMBER) * (NODE_NUMBER - 1) / 2\n",
    "EDGE_PROBABILITY = 0.05\n",
    "EDGE_NUMBER = int(MAX_EDGE_NUMBER * EDGE_PROBABILITY)  # Approximately 0.05 of max possible edge number\n",
    "# GRAPH_NUMBER = 100\n",
    "GRAPH_NUMBER = 10\n",
    "# SIMULATION_NUMBER = 100\n",
    "SIMULATION_NUMBER = 1\n",
    "COLOR = ['red', 'green', 'blue', 'gray', 'yellow', 'brown', 'black']"
   ]
  },
  {
   "cell_type": "markdown",
   "id": "a896ff32",
   "metadata": {},
   "source": [
    "# Functions"
   ]
  },
  {
   "cell_type": "markdown",
   "id": "9125d47d",
   "metadata": {},
   "source": [
    "### Eigvals"
   ]
  },
  {
   "cell_type": "markdown",
   "id": "8c6214c7",
   "metadata": {},
   "source": [
    "###### Adjacency"
   ]
  },
  {
   "cell_type": "code",
   "execution_count": null,
   "id": "a9276ea0",
   "metadata": {},
   "outputs": [],
   "source": [
    "def get_adjacency_eigvals(graph):\n",
    "    L = nx.adjacency_matrix(graph)\n",
    "    e = np.linalg.eigvals(L.toarray())\n",
    "    e = list(sorted(e))\n",
    "    return e"
   ]
  },
  {
   "cell_type": "markdown",
   "id": "68f46550",
   "metadata": {},
   "source": [
    "###### Laplacian"
   ]
  },
  {
   "cell_type": "code",
   "execution_count": null,
   "id": "ac3da15e",
   "metadata": {},
   "outputs": [],
   "source": [
    "def get_laplacian_evigal(graph): # Laplacian matrix\n",
    "    L = nx.laplacian_matrix(graph)\n",
    "    e = np.linalg.eigvals(L.toarray())\n",
    "    e = list(sorted(e))\n",
    "    return e"
   ]
  },
  {
   "cell_type": "markdown",
   "id": "62e7b5f4",
   "metadata": {},
   "source": [
    "### Spectral Gap"
   ]
  },
  {
   "cell_type": "code",
   "execution_count": null,
   "id": "a2df5bb9",
   "metadata": {},
   "outputs": [],
   "source": [
    "def get_spectral_gap(graph):\n",
    "    eigvals = get_adjacency_eigvals(graph)\n",
    "    max_index = len(eigvals) - 1\n",
    "    maximum = eigvals[max_index]\n",
    "    second_max = eigvals[max_index - 1]\n",
    "    diff = maximum - second_max\n",
    "    return diff"
   ]
  },
  {
   "cell_type": "markdown",
   "id": "76961211",
   "metadata": {},
   "source": [
    "### Algebraic Connectivity"
   ]
  },
  {
   "cell_type": "code",
   "execution_count": null,
   "id": "9629d344",
   "metadata": {},
   "outputs": [],
   "source": [
    "def get_algebraic_connectivity(graph):\n",
    "    return nx.algebraic_connectivity(graph)"
   ]
  },
  {
   "cell_type": "markdown",
   "id": "c599eba1",
   "metadata": {},
   "source": [
    "### check for connection with Algebraic Connectivity"
   ]
  },
  {
   "cell_type": "code",
   "execution_count": null,
   "id": "93d445ae",
   "metadata": {},
   "outputs": [],
   "source": [
    "def is_graph_connected(graph):\n",
    "    return get_algebraic_connectivity(graph) > 0"
   ]
  },
  {
   "cell_type": "markdown",
   "id": "58d4c7e5",
   "metadata": {},
   "source": [
    "### Trace Power S"
   ]
  },
  {
   "cell_type": "code",
   "execution_count": null,
   "id": "385b07e7",
   "metadata": {},
   "outputs": [],
   "source": [
    "def get_trace_power_s(graph, power=2): # number of walks with len s (power) in graph\n",
    "    eigvals = get_adjacency_eigvals(graph)\n",
    "    eigvals_powers = np.power(eigvals, power)\n",
    "    summation = np.sum(eigvals_powers)\n",
    "    return summation"
   ]
  },
  {
   "cell_type": "markdown",
   "id": "c1e710a5",
   "metadata": {},
   "source": [
    "### Phi s (Average Trace Power S)"
   ]
  },
  {
   "cell_type": "code",
   "execution_count": null,
   "id": "dade70de",
   "metadata": {},
   "outputs": [],
   "source": [
    "def get_phi_s(graph): # average number of walks with len s (power) in graph\n",
    "    eigvals = get_adjacency_eigvals(graph)\n",
    "    eigvals_powers = np.power(eigvals, power)\n",
    "    summation = np.sum(eigvals_powers)\n",
    "    avg = summation / len(eigvals)\n",
    "    return summation"
   ]
  },
  {
   "cell_type": "markdown",
   "id": "ec519697",
   "metadata": {},
   "source": [
    "### Centrality of Global Subgraph"
   ]
  },
  {
   "cell_type": "code",
   "execution_count": null,
   "id": "f58b05fe",
   "metadata": {},
   "outputs": [],
   "source": [
    "def get_centrality_of_global_subgraph(graph):\n",
    "    eigvals = get_adjacency_eigvals(graph)\n",
    "    summation = sum([math.exp(value) for value in eigvals])\n",
    "    return summation"
   ]
  },
  {
   "cell_type": "markdown",
   "id": "80e2a583",
   "metadata": {},
   "source": [
    "### Average Eigvals"
   ]
  },
  {
   "cell_type": "code",
   "execution_count": null,
   "id": "7c5cf1b2",
   "metadata": {},
   "outputs": [],
   "source": [
    "def get_average_eigvals(graph):\n",
    "    summation = get_centrality_of_global_subgraph(graph)\n",
    "    ln = math.log(summation)\n",
    "    return ln"
   ]
  },
  {
   "cell_type": "markdown",
   "id": "12a9f157",
   "metadata": {},
   "source": [
    "## Automorphism"
   ]
  },
  {
   "cell_type": "code",
   "execution_count": null,
   "id": "8175853c",
   "metadata": {},
   "outputs": [],
   "source": [
    "def get_all_automorphism(graph): # automorphism is isomorphism for a graph with itself\n",
    "    dictionary = nx.vf2pp_all_isomorphisms(graph, graph)\n",
    "    return list(dictionary) # return a list of mapping (return a list of dictionary)"
   ]
  },
  {
   "cell_type": "markdown",
   "id": "0c66166b",
   "metadata": {},
   "source": [
    "### Node Similarity (Vertex Transitivity)"
   ]
  },
  {
   "cell_type": "code",
   "execution_count": null,
   "id": "30f0a183",
   "metadata": {},
   "outputs": [],
   "source": [
    "def is_node_similar(graph):\n",
    "    automorphisms = get_all_automorphism(graph)\n",
    "    for u,v in graph.edges:\n",
    "        if not any(auto[u] == v for auto in automorphisms):\n",
    "            return False\n",
    "    return True"
   ]
  },
  {
   "cell_type": "markdown",
   "id": "9a921884",
   "metadata": {},
   "source": [
    "### Symmetry (Edge Transitivity)"
   ]
  },
  {
   "cell_type": "code",
   "execution_count": null,
   "id": "de64df89",
   "metadata": {},
   "outputs": [],
   "source": [
    "def is_symmetry(graph):\n",
    "    automorphisms = get_all_automorphism(graph)\n",
    "    for u, v in graph.edges:\n",
    "        for x, y in graph.edges:\n",
    "            if not any(auto[u] == x and auto[v] ==y for auto in automorphisms):\n",
    "                return False\n",
    "    return True"
   ]
  },
  {
   "cell_type": "markdown",
   "id": "2ae97ba1",
   "metadata": {},
   "source": [
    "### Laplacian Energy"
   ]
  },
  {
   "cell_type": "code",
   "execution_count": null,
   "id": "50e48719",
   "metadata": {},
   "outputs": [],
   "source": [
    "def get_laplacian_energy(graph):\n",
    "    if not nx.is_connected(graph):\n",
    "        raise Exception(\"Graph Must Be Connected\")\n",
    "    if nx.is_directed(graph):\n",
    "        raise Exception(\"Graph Must Be Undirected\")\n",
    "    eigenvalues = get_adjacency_eigvals(graph)\n",
    "    laplacian_energy = sum([abs(value) for value in eigenvalues])\n",
    "    return laplacian_energy"
   ]
  },
  {
   "cell_type": "code",
   "execution_count": null,
   "id": "50344c6e",
   "metadata": {},
   "outputs": [],
   "source": [
    "def get_laplacian_energy2(graph):\n",
    "    if not nx.is_connected(graph):\n",
    "        raise Exception(\"Graph Must Be Connected\")\n",
    "    if nx.is_directed(graph):\n",
    "        raise Exception(\"Graph Must Be Undirected\")\n",
    "    eigenvalues = get_adjacency_eigvals(graph)\n",
    "    summation = sum([value if value > 0 else 0 for value in eigenvalues])\n",
    "    laplacian_energy = summation * 2\n",
    "    return laplacian_energy"
   ]
  },
  {
   "cell_type": "code",
   "execution_count": null,
   "id": "2688d170",
   "metadata": {},
   "outputs": [],
   "source": [
    "def get_laplacian_energy3(graph):\n",
    "    if not nx.is_connected(graph):\n",
    "        raise Exception(\"Graph Must Be Connected\")\n",
    "    if nx.is_directed(graph):\n",
    "        raise Exception(\"Graph Must Be Undirected\")\n",
    "    eigenvalues = get_laplacian_evigal(graph)\n",
    "    n = graph.number_of_nodes()\n",
    "    m = graph.number_of_edges()\n",
    "    constant = (2 * m) / n\n",
    "    laplacian_energy = sum([abs(value - constant) for value in eigenvalues])\n",
    "    return laplacian_energy"
   ]
  },
  {
   "cell_type": "markdown",
   "id": "04fed769",
   "metadata": {},
   "source": [
    "### Plotting Graphs"
   ]
  },
  {
   "cell_type": "code",
   "execution_count": null,
   "id": "2d7a1a0b",
   "metadata": {},
   "outputs": [],
   "source": [
    "def show_graph(graph, path=None):\n",
    "    pos = nx.circular_layout(graph)\n",
    "    plt.figure(figsize = (12, 12))\n",
    "    nx.draw_networkx(graph, pos)\n",
    "    if path != None:\n",
    "        plt.savefig(path+'.png')\n",
    "    plt.show()"
   ]
  },
  {
   "cell_type": "markdown",
   "id": "4323171b",
   "metadata": {},
   "source": [
    "### Degree Distribution"
   ]
  },
  {
   "cell_type": "code",
   "execution_count": null,
   "id": "52e483f1",
   "metadata": {},
   "outputs": [],
   "source": [
    "def degree_distribution(graph, path=None, style='-o'):\n",
    "    degrees = [graph.degree(n) for n in graph.nodes()]\n",
    "    degrees = list(sorted(degrees))\n",
    "    degree_freq_dic = Counter(degrees)\n",
    "    x_axis = degree_freq_dic.keys()\n",
    "    y_axis = degree_freq_dic.values()\n",
    "    y_axis = np.array(list(y_axis)) / len(degrees)\n",
    "    \n",
    "    plt.title('Degree Distribution')\n",
    "    plt.xlabel(\"Degree\")\n",
    "    plt.ylabel(\"Frequesncy\")\n",
    "    plt.plot(x_axis, y_axis, style, label='degree probability')\n",
    "    \n",
    "    upper_y = np.array([0, max(y_axis)])\n",
    "    avg = np.average(degrees)\n",
    "    upper_x = np.array([avg, avg])\n",
    "    plt.plot(upper_x, upper_y, color='red', linestyle='-.', label='mean')\n",
    "    plt.legend(loc='best') # setting best location for labels\n",
    "    \n",
    "    if path != None:\n",
    "        plt.savefig(path+'.png')\n",
    "    plt.show()"
   ]
  },
  {
   "cell_type": "markdown",
   "id": "8fdd4b30",
   "metadata": {},
   "source": [
    "### Double-Log"
   ]
  },
  {
   "cell_type": "code",
   "execution_count": null,
   "id": "2985305f",
   "metadata": {},
   "outputs": [],
   "source": [
    "def double_log(graph, path=None, style='-o'):\n",
    "    degrees = [graph.degree(n) for n in graph.nodes()]\n",
    "    degrees = list(sorted(degrees))\n",
    "    degree_freq_dic = Counter(degrees)\n",
    "    unique_degrees = list(degree_freq_dic.keys())\n",
    "    frequency = list(degree_freq_dic.values())\n",
    "    x_axis = np.log(unique_degrees)\n",
    "    y_axis = np.log(frequency)\n",
    "    y_axis = np.array(list(y_axis)) / len(degrees)\n",
    "    plt.xlabel(\"Degree\")\n",
    "    plt.ylabel(\"Degree Distribution\")\n",
    "    plt.title('Double Log')\n",
    "    plt.plot(x_axis, y_axis, style, label='degree distribution')\n",
    "    if path != None:\n",
    "        plt.savefig(path+'.png')\n",
    "    plt.show()"
   ]
  },
  {
   "cell_type": "markdown",
   "id": "1834d3a2",
   "metadata": {},
   "source": [
    "## Comparing Plots"
   ]
  },
  {
   "cell_type": "code",
   "execution_count": null,
   "id": "79047a8f",
   "metadata": {},
   "outputs": [],
   "source": [
    "def compare_datas(datas, labels, x_label='', y_label='', title='', style='-o', color=COLOR, path=None):\n",
    "    plt.xlabel(x_label)\n",
    "    plt.ylabel(y_label)\n",
    "    plt.title(title)\n",
    "    for i in range(len(datas)):\n",
    "        x_axis = list(range(len(datas[i])))\n",
    "        plt.plot(x_axis, datas[i], style, label=labels[i], color=color[i])\n",
    "    if path != None:\n",
    "        plt.savefig(path+'.png')\n",
    "    plt.show()"
   ]
  },
  {
   "cell_type": "markdown",
   "id": "c82e85d6",
   "metadata": {},
   "source": [
    "## Data Details"
   ]
  },
  {
   "cell_type": "markdown",
   "id": "84d6c43e",
   "metadata": {},
   "source": [
    "### c.i plots"
   ]
  },
  {
   "cell_type": "code",
   "execution_count": null,
   "id": "9dffec15",
   "metadata": {},
   "outputs": [],
   "source": [
    "def coefficient_interval_plot(data, path=None, alpha=0.95):\n",
    "    x = np.array([i for i in range(len(data))])\n",
    "    y = np.array(data)\n",
    "    # plotting\n",
    "    plt.plot(y, x,'o', color='blue', label='data')\n",
    "    \n",
    "    # confidence intervals\n",
    "    p = ((1.0-alpha)/2.0) * 100\n",
    "    # percentile function returns the numbers which that percent of \n",
    "    # the array elements areless equal then that number\n",
    "    lower =  np.percentile(y, p) \n",
    "    p = (alpha+((1.0-alpha)/2.0)) * 100\n",
    "    upper =  np.percentile(y, p)\n",
    "#     print(f\"\\n{alpha*100} confidence interval {lower} and {upper}\")\n",
    "    \n",
    "    # c.i upper & lower\n",
    "    upper_y = np.array([0, len(data)])\n",
    "    upper_x = np.array([upper, upper])\n",
    "    plt.plot(upper_x, upper_y, color='red', linestyle='-.', label='upper c.i')\n",
    "    \n",
    "    lower_y = np.array([0, len(data)])\n",
    "    lower_x = np.array([lower, lower])\n",
    "    plt.plot(lower_x, lower_y, color='orange', linestyle='-.', label='lower c.i')\n",
    "    \n",
    "    ci_x = np.array([lower, upper])\n",
    "    ci_y = np.array([0, 0])\n",
    "    plt.plot(ci_x, ci_y, '-', color='green', label='c.i')\n",
    "    plt.legend(loc='best')\n",
    "    if path != None:\n",
    "        plt.savefig(path+'.png')\n",
    "    plt.show()"
   ]
  },
  {
   "cell_type": "code",
   "execution_count": null,
   "id": "7b8ebe0f",
   "metadata": {},
   "outputs": [],
   "source": [
    "def coefficient_interval_plot2(data, path=None, alpha=0.95):\n",
    "    x = np.array(list(range(len(data))))\n",
    "    y = np.array(data)\n",
    "    # Plotting data\n",
    "    plt.plot(x, y, '-o', color='red', label='data')\n",
    "    \n",
    "    # confidence intervals\n",
    "    ci = (1.0-alpha) * np.std(y) / np.mean(y)\n",
    "    mean = np.mean(y)\n",
    "    avg = [mean for i in range(len(data))]\n",
    "    \n",
    "    # Plot the confidence interval\n",
    "    plt.fill_between(x, (avg-ci), (avg+ci), color='blue', alpha=0.1)\n",
    "    plt.plot(x, (avg-ci), '--', color='blue', label='-*ci')\n",
    "    plt.plot(x, (avg+ci), '--', color='blue', label='+*ci')\n",
    "    plt.fill_between(x, (avg-2*ci), (avg+2*ci), color='green', alpha=.1)\n",
    "    plt.plot(x, (avg-2*ci), '--', color='green', label='-2*ci')\n",
    "    plt.plot(x, (avg+2*ci), '--', color='green', label='+2*ci')\n",
    "    plt.legend(loc='best')\n",
    "    if path != None:\n",
    "        plt.savefig(path+'.png')\n",
    "    plt.show()"
   ]
  },
  {
   "cell_type": "code",
   "execution_count": null,
   "id": "d11689f7",
   "metadata": {},
   "outputs": [],
   "source": [
    "def coefficient_interval_plot3(data, path=None, alpha=0.95):\n",
    "    x = np.array(list(range(len(data))))\n",
    "    y = np.array(data)\n",
    "    # Plotting data\n",
    "    plt.plot(x, y, '-o', color='red', label='data')\n",
    "    \n",
    "    # Define the confidence interval\n",
    "    ci = (1.0-alpha) * np.std(y) / np.mean(y)\n",
    "    \n",
    "    # Plot the confidence interval\n",
    "    plt.fill_between(x, (y-ci), (y+ci), color='blue', alpha=0.1)\n",
    "    plt.plot(x, (y-2*ci), '--', color='blue', label='-*ci')\n",
    "    plt.plot(x, (y+2*ci), '--', color='blue', label='+*ci')\n",
    "    plt.fill_between(x, (y-2*ci), (y+2*ci), color='green', alpha=.1)\n",
    "    plt.plot(x, (y-2*ci), '--', color='green', label='-2*ci')\n",
    "    plt.plot(x, (y+2*ci), '--', color='green', label='+2*ci')\n",
    "    plt.legend(loc='best')\n",
    "    if path != None:\n",
    "        plt.savefig(path+'.png')\n",
    "    plt.show()"
   ]
  },
  {
   "cell_type": "markdown",
   "id": "4a7d9cb2",
   "metadata": {},
   "source": [
    "### Mean & Variance"
   ]
  },
  {
   "cell_type": "code",
   "execution_count": null,
   "id": "872c4d86",
   "metadata": {},
   "outputs": [],
   "source": [
    "def get_details(data):\n",
    "    print('mean: ', np.mean(data))\n",
    "    print('variance: ', np.var(data))"
   ]
  },
  {
   "cell_type": "markdown",
   "id": "4d80d773",
   "metadata": {},
   "source": [
    "# Making Graphs"
   ]
  },
  {
   "cell_type": "markdown",
   "id": "1c88ba7b",
   "metadata": {},
   "source": [
    "### Small-World (watts-storgatz)"
   ]
  },
  {
   "cell_type": "code",
   "execution_count": null,
   "id": "66df144d",
   "metadata": {
    "scrolled": true
   },
   "outputs": [],
   "source": [
    "sw_seed_values = random.sample(range(1, 100000), GRAPH_NUMBER) # generating GRAPH_NUMBER unique random number to be used as seed\n",
    "\n",
    "small_worlds = []\n",
    "\n",
    "k = round(((2 * EDGE_NUMBER) / NODE_NUMBER))\n",
    "\n",
    "for i in range(GRAPH_NUMBER):\n",
    "    print('Graph No: ', i)\n",
    "    # we want to have EDGE_NUMBER edge, and in the base graph we have k degree\n",
    "    # for each node. And we know summation of node degrees, is 2 * EDGE_NUMBER\n",
    "    # so we have tohave k = (2 * EDGE_NUMBER) / NODE_NUMBER  for each node.\n",
    "    rewiring_probability = random.uniform(0.2, 0.3)\n",
    "    graph = graph = nx.watts_strogatz_graph(n=NODE_NUMBER, k=k, p=rewiring_probability, seed=sw_seed_values[i])\n",
    "    small_worlds.append(graph)\n",
    "#     show_graph(graph)"
   ]
  },
  {
   "cell_type": "markdown",
   "id": "01ac7bd3",
   "metadata": {},
   "source": [
    "#### Degree Distribution"
   ]
  },
  {
   "cell_type": "code",
   "execution_count": null,
   "id": "54359444",
   "metadata": {},
   "outputs": [],
   "source": [
    "for graph in small_worlds:\n",
    "    degree_distribution(graph)"
   ]
  },
  {
   "cell_type": "markdown",
   "id": "8e1c0c4e",
   "metadata": {},
   "source": [
    "### Scale-Free (barabasi-albert)"
   ]
  },
  {
   "cell_type": "code",
   "execution_count": null,
   "id": "b75d12e1",
   "metadata": {
    "scrolled": true
   },
   "outputs": [],
   "source": [
    "sf_seed_values = random.sample(range(1, 100000), GRAPH_NUMBER) # generating GRAPH_NUMBER unique random number to be used as seed\n",
    "\n",
    "m = round(((EDGE_NUMBER) / NODE_NUMBER))\n",
    "\n",
    "scale_frees = []\n",
    "\n",
    "for i in range(GRAPH_NUMBER):\n",
    "    print('Graph no: ', i)\n",
    "    graph = nx.barabasi_albert_graph(n=NODE_NUMBER, m=m, seed=sf_seed_values[i], initial_graph=None)\n",
    "    scale_frees.append(graph)\n",
    "    \n",
    "#     show_graph(graph)"
   ]
  },
  {
   "cell_type": "markdown",
   "id": "8b9438c4",
   "metadata": {},
   "source": [
    "#### Degree Distribution"
   ]
  },
  {
   "cell_type": "code",
   "execution_count": null,
   "id": "8587e7ff",
   "metadata": {
    "scrolled": true
   },
   "outputs": [],
   "source": [
    "for graph in scale_frees:\n",
    "    degree_distribution(graph, style='o')"
   ]
  },
  {
   "cell_type": "markdown",
   "id": "2ab20512",
   "metadata": {},
   "source": [
    "#### Log-Log Plot"
   ]
  },
  {
   "cell_type": "code",
   "execution_count": null,
   "id": "3a2dbd4c",
   "metadata": {},
   "outputs": [],
   "source": [
    "for graph in scale_frees:\n",
    "    double_log(graph, style='o')"
   ]
  },
  {
   "cell_type": "markdown",
   "id": "5ec8c684",
   "metadata": {},
   "source": [
    "### Random"
   ]
  },
  {
   "cell_type": "code",
   "execution_count": null,
   "id": "7a68dd4c",
   "metadata": {
    "scrolled": true
   },
   "outputs": [],
   "source": [
    "er_seed_values = random.sample(range(1, 100000), GRAPH_NUMBER) # generating GRAPH_NUMBER unique random number to be used as seed\n",
    "\n",
    "randoms = []\n",
    "for i in range(GRAPH_NUMBER):\n",
    "    print('graph no: ', i)\n",
    "    graph = nx.erdos_renyi_graph(NODE_NUMBER, EDGE_PROBABILITY, seed=er_seed_values[i])\n",
    "    randoms.append(graph)"
   ]
  },
  {
   "cell_type": "markdown",
   "id": "1f69b8b7",
   "metadata": {},
   "source": [
    "### Degree Distribution"
   ]
  },
  {
   "cell_type": "code",
   "execution_count": null,
   "id": "a603d558",
   "metadata": {},
   "outputs": [],
   "source": [
    "for graph in randoms:\n",
    "    degree_distribution(graph)"
   ]
  },
  {
   "cell_type": "markdown",
   "id": "01740df3",
   "metadata": {},
   "source": [
    "# Algebric Connectivity"
   ]
  },
  {
   "cell_type": "markdown",
   "id": "de97aa2b",
   "metadata": {},
   "source": [
    "### Calculating"
   ]
  },
  {
   "cell_type": "code",
   "execution_count": null,
   "id": "7fa9940a",
   "metadata": {
    "scrolled": true
   },
   "outputs": [],
   "source": [
    "# ac = algebraic connectivity\n",
    "small_worlds_ac = []\n",
    "scale_frees_ac = [] \n",
    "randoms_ac = []\n",
    "\n",
    "for i in range(GRAPH_NUMBER):\n",
    "    small_worlds_ac.append(get_algebraic_connectivity(small_worlds[i]))\n",
    "    scale_frees_ac.append(get_algebraic_connectivity(scale_frees[i]))\n",
    "    randoms_ac.append(get_algebraic_connectivity(randoms[i]))"
   ]
  },
  {
   "cell_type": "markdown",
   "id": "a718253d",
   "metadata": {},
   "source": [
    "### small world"
   ]
  },
  {
   "cell_type": "code",
   "execution_count": null,
   "id": "367d7e53",
   "metadata": {
    "scrolled": false
   },
   "outputs": [],
   "source": [
    "get_details(small_worlds_ac)"
   ]
  },
  {
   "cell_type": "code",
   "execution_count": null,
   "id": "95a3bdd1",
   "metadata": {},
   "outputs": [],
   "source": [
    "coefficient_interval_plot(small_worlds_ac)"
   ]
  },
  {
   "cell_type": "code",
   "execution_count": null,
   "id": "b2a87e05",
   "metadata": {},
   "outputs": [],
   "source": [
    "coefficient_interval_plot2(small_worlds_ac)"
   ]
  },
  {
   "cell_type": "code",
   "execution_count": null,
   "id": "2e7a15a9",
   "metadata": {},
   "outputs": [],
   "source": [
    "coefficient_interval_plot3(small_worlds_ac)"
   ]
  },
  {
   "cell_type": "markdown",
   "id": "0961ddbf",
   "metadata": {},
   "source": [
    "### Scale Free"
   ]
  },
  {
   "cell_type": "code",
   "execution_count": null,
   "id": "6186d5a9",
   "metadata": {
    "scrolled": true
   },
   "outputs": [],
   "source": [
    "get_details(scale_frees_ac)"
   ]
  },
  {
   "cell_type": "code",
   "execution_count": null,
   "id": "fd1e96b9",
   "metadata": {},
   "outputs": [],
   "source": [
    "coefficient_interval_plot(scale_frees_ac)"
   ]
  },
  {
   "cell_type": "code",
   "execution_count": null,
   "id": "f77a871e",
   "metadata": {},
   "outputs": [],
   "source": [
    "coefficient_interval_plot2(scale_frees_ac)"
   ]
  },
  {
   "cell_type": "code",
   "execution_count": null,
   "id": "2a47d829",
   "metadata": {
    "scrolled": true
   },
   "outputs": [],
   "source": [
    "coefficient_interval_plot3(scale_frees_ac)"
   ]
  },
  {
   "cell_type": "markdown",
   "id": "3c5bad3f",
   "metadata": {},
   "source": [
    "### Random"
   ]
  },
  {
   "cell_type": "code",
   "execution_count": null,
   "id": "ef3e1878",
   "metadata": {},
   "outputs": [],
   "source": [
    "get_details(randoms_ac)"
   ]
  },
  {
   "cell_type": "code",
   "execution_count": null,
   "id": "e5895956",
   "metadata": {},
   "outputs": [],
   "source": [
    "coefficient_interval_plot(randoms_ac)"
   ]
  },
  {
   "cell_type": "code",
   "execution_count": null,
   "id": "fa176ad7",
   "metadata": {},
   "outputs": [],
   "source": [
    "coefficient_interval_plot2(randoms_ac)"
   ]
  },
  {
   "cell_type": "code",
   "execution_count": null,
   "id": "27428959",
   "metadata": {},
   "outputs": [],
   "source": [
    "coefficient_interval_plot3(randoms_ac)"
   ]
  },
  {
   "cell_type": "markdown",
   "id": "1b41995e",
   "metadata": {},
   "source": [
    "# Comparing"
   ]
  },
  {
   "cell_type": "code",
   "execution_count": null,
   "id": "fc97aac9",
   "metadata": {
    "scrolled": true
   },
   "outputs": [],
   "source": [
    "datas = [small_worlds_ac, scale_frees_ac, randoms_ac]\n",
    "lables = ['small world', 'scale free', 'random']\n",
    "compare_datas(datas, lables, x_label='Graph Number'\n",
    "              , y_label='Algebraic Connectivity', title='Comparing algebraic connectivity of graphs')"
   ]
  },
  {
   "cell_type": "markdown",
   "id": "e56550db",
   "metadata": {},
   "source": [
    "# Spectral Gap"
   ]
  },
  {
   "cell_type": "markdown",
   "id": "c76277b9",
   "metadata": {},
   "source": [
    "### Calculating"
   ]
  },
  {
   "cell_type": "code",
   "execution_count": null,
   "id": "6e419be2",
   "metadata": {},
   "outputs": [],
   "source": [
    "# sg = spectral gap\n",
    "sg_small_world = []\n",
    "sg_scale_free = []\n",
    "sg_random = []\n",
    "\n",
    "for i in range(GRAPH_NUMBER):\n",
    "    sg_small_world.append(get_spectral_gap(small_worlds[i]))\n",
    "    sg_scale_free.append(get_spectral_gap(scale_frees[i]))\n",
    "    sg_random.append(get_spectral_gap(randoms[i]))"
   ]
  },
  {
   "cell_type": "markdown",
   "id": "1e634649",
   "metadata": {},
   "source": [
    "### Small World"
   ]
  },
  {
   "cell_type": "code",
   "execution_count": null,
   "id": "fb9d0313",
   "metadata": {},
   "outputs": [],
   "source": [
    "get_details(sg_small_world)"
   ]
  },
  {
   "cell_type": "code",
   "execution_count": null,
   "id": "c2c61289",
   "metadata": {
    "scrolled": true
   },
   "outputs": [],
   "source": [
    "coefficient_interval_plot(sg_small_world)"
   ]
  },
  {
   "cell_type": "code",
   "execution_count": null,
   "id": "322306bf",
   "metadata": {
    "scrolled": true
   },
   "outputs": [],
   "source": [
    "coefficient_interval_plot2(sg_small_world)"
   ]
  },
  {
   "cell_type": "code",
   "execution_count": null,
   "id": "42ea67f8",
   "metadata": {
    "scrolled": true
   },
   "outputs": [],
   "source": [
    "coefficient_interval_plot3(sg_small_world)"
   ]
  },
  {
   "cell_type": "markdown",
   "id": "ffca3ccc",
   "metadata": {},
   "source": [
    "### Scale Free"
   ]
  },
  {
   "cell_type": "code",
   "execution_count": null,
   "id": "3e39d367",
   "metadata": {},
   "outputs": [],
   "source": [
    "get_details(sg_scale_free)"
   ]
  },
  {
   "cell_type": "code",
   "execution_count": null,
   "id": "de8db07c",
   "metadata": {
    "scrolled": true
   },
   "outputs": [],
   "source": [
    "coefficient_interval_plot(sg_scale_free)"
   ]
  },
  {
   "cell_type": "code",
   "execution_count": null,
   "id": "422c965f",
   "metadata": {
    "scrolled": true
   },
   "outputs": [],
   "source": [
    "coefficient_interval_plot2(sg_scale_free)"
   ]
  },
  {
   "cell_type": "code",
   "execution_count": null,
   "id": "d2a35ced",
   "metadata": {
    "scrolled": true
   },
   "outputs": [],
   "source": [
    "coefficient_interval_plot3(sg_scale_free)"
   ]
  },
  {
   "cell_type": "markdown",
   "id": "676a50d1",
   "metadata": {},
   "source": [
    "### Random"
   ]
  },
  {
   "cell_type": "code",
   "execution_count": null,
   "id": "97b5aca2",
   "metadata": {},
   "outputs": [],
   "source": [
    "get_details(sg_random)"
   ]
  },
  {
   "cell_type": "code",
   "execution_count": null,
   "id": "9c149d7b",
   "metadata": {
    "scrolled": true
   },
   "outputs": [],
   "source": [
    "coefficient_interval_plot(sg_random)"
   ]
  },
  {
   "cell_type": "code",
   "execution_count": null,
   "id": "8e72d637",
   "metadata": {
    "scrolled": true
   },
   "outputs": [],
   "source": [
    "coefficient_interval_plot2(sg_random)"
   ]
  },
  {
   "cell_type": "code",
   "execution_count": null,
   "id": "1b5f5c7b",
   "metadata": {
    "scrolled": true
   },
   "outputs": [],
   "source": [
    "coefficient_interval_plot3(sg_random)"
   ]
  },
  {
   "cell_type": "markdown",
   "id": "170903a8",
   "metadata": {},
   "source": [
    "### Comparing"
   ]
  },
  {
   "cell_type": "code",
   "execution_count": null,
   "id": "8d9a03aa",
   "metadata": {
    "scrolled": true
   },
   "outputs": [],
   "source": [
    "datas = [sg_small_world, sg_scale_free, sg_random]\n",
    "lables = ['small world', 'scale free', 'random']\n",
    "compare_datas(datas, lables, x_label='Graph Number'\n",
    "              , y_label='Spectral Gap', title='Comparing Spectral Gap of graphs')"
   ]
  },
  {
   "cell_type": "markdown",
   "id": "eb69bb7d",
   "metadata": {},
   "source": [
    "# Centraliti Of Global Subgraph"
   ]
  },
  {
   "cell_type": "markdown",
   "id": "81fe8d80",
   "metadata": {},
   "source": [
    "### Calculate"
   ]
  },
  {
   "cell_type": "code",
   "execution_count": null,
   "id": "e89411a9",
   "metadata": {},
   "outputs": [],
   "source": [
    "# cgs = centrality of global subgraph\n",
    "cgs_small_world = []\n",
    "cgs_scale_free = []\n",
    "cgs_random = []\n",
    "for i in range(GRAPH_NUMBER):\n",
    "    cgs_small_world.append(get_centrality_of_global_subgraph(small_worlds[i]))\n",
    "    cgs_scale_free.append(get_centrality_of_global_subgraph(scale_frees[i]))\n",
    "    cgs_random.append(get_centrality_of_global_subgraph(randoms[i]))"
   ]
  },
  {
   "cell_type": "markdown",
   "id": "9ffe09f7",
   "metadata": {},
   "source": [
    "### Small World"
   ]
  },
  {
   "cell_type": "code",
   "execution_count": null,
   "id": "8eb6308d",
   "metadata": {},
   "outputs": [],
   "source": [
    "get_details(cgs_small_world)"
   ]
  },
  {
   "cell_type": "code",
   "execution_count": null,
   "id": "e97751e3",
   "metadata": {
    "scrolled": true
   },
   "outputs": [],
   "source": [
    "coefficient_interval_plot(cgs_small_world)"
   ]
  },
  {
   "cell_type": "code",
   "execution_count": null,
   "id": "b492ea17",
   "metadata": {
    "scrolled": true
   },
   "outputs": [],
   "source": [
    "coefficient_interval_plot2(cgs_small_world)"
   ]
  },
  {
   "cell_type": "code",
   "execution_count": null,
   "id": "f6093b3c",
   "metadata": {
    "scrolled": true
   },
   "outputs": [],
   "source": [
    "coefficient_interval_plot3(cgs_small_world)"
   ]
  },
  {
   "cell_type": "markdown",
   "id": "94d0ba22",
   "metadata": {},
   "source": [
    "### Compare"
   ]
  },
  {
   "cell_type": "code",
   "execution_count": null,
   "id": "938aface",
   "metadata": {
    "scrolled": true
   },
   "outputs": [],
   "source": [
    "datas = [cgs_small_world, cgs_scale_free, cgs_random]\n",
    "lables = ['small-world', 'scale-free', 'random']\n",
    "compare_datas(datas, lables, x_label='Graph Number'\n",
    "              , y_label='Centrality Of Global Subgraph', title='Comparing Centrality Of Global Subgraph of graphs')"
   ]
  },
  {
   "cell_type": "markdown",
   "id": "73d3599e",
   "metadata": {},
   "source": [
    "# Average Eigvals"
   ]
  },
  {
   "cell_type": "markdown",
   "id": "488b2d67",
   "metadata": {},
   "source": [
    "### Calculating"
   ]
  },
  {
   "cell_type": "code",
   "execution_count": null,
   "id": "efb7f1f9",
   "metadata": {},
   "outputs": [],
   "source": [
    "# ae = average eigvals\n",
    "ae_small_world = []\n",
    "ae_scale_free = []\n",
    "ae_random = []\n",
    "for i in range(GRAPH_NUMBER):\n",
    "    ae_small_world.append(get_average_eigvals(small_worlds[i]))\n",
    "    ae_scale_free.append(get_average_eigvals(scale_frees[i]))\n",
    "    ae_random.append(get_average_eigvals(randoms[i]))"
   ]
  },
  {
   "cell_type": "markdown",
   "id": "53a7128d",
   "metadata": {},
   "source": [
    "### small world"
   ]
  },
  {
   "cell_type": "code",
   "execution_count": null,
   "id": "e0c5f42d",
   "metadata": {},
   "outputs": [],
   "source": [
    "get_details(ae_small_world)"
   ]
  },
  {
   "cell_type": "code",
   "execution_count": null,
   "id": "e741cb14",
   "metadata": {
    "scrolled": true
   },
   "outputs": [],
   "source": [
    "coefficient_interval_plot(ae_small_world)"
   ]
  },
  {
   "cell_type": "code",
   "execution_count": null,
   "id": "548d21f3",
   "metadata": {
    "scrolled": true
   },
   "outputs": [],
   "source": [
    "coefficient_interval_plot2(ae_small_world)"
   ]
  },
  {
   "cell_type": "code",
   "execution_count": null,
   "id": "cf5dd28f",
   "metadata": {},
   "outputs": [],
   "source": [
    "coefficient_interval_plot3(ae_small_world)"
   ]
  },
  {
   "cell_type": "markdown",
   "id": "80b634f4",
   "metadata": {},
   "source": [
    "### scale free"
   ]
  },
  {
   "cell_type": "code",
   "execution_count": null,
   "id": "a3451205",
   "metadata": {},
   "outputs": [],
   "source": [
    "get_details(ae_scale_free)"
   ]
  },
  {
   "cell_type": "code",
   "execution_count": null,
   "id": "865c741a",
   "metadata": {},
   "outputs": [],
   "source": [
    "coefficient_interval_plot(ae_scale_free)"
   ]
  },
  {
   "cell_type": "code",
   "execution_count": null,
   "id": "4c0026b7",
   "metadata": {},
   "outputs": [],
   "source": [
    "coefficient_interval_plot2(ae_scale_free)"
   ]
  },
  {
   "cell_type": "code",
   "execution_count": null,
   "id": "09fb1173",
   "metadata": {},
   "outputs": [],
   "source": [
    "coefficient_interval_plot3(ae_scale_free)"
   ]
  },
  {
   "cell_type": "markdown",
   "id": "7bfc90a5",
   "metadata": {},
   "source": [
    "### random"
   ]
  },
  {
   "cell_type": "code",
   "execution_count": null,
   "id": "320d8fb3",
   "metadata": {},
   "outputs": [],
   "source": [
    "get_details(ae_random)"
   ]
  },
  {
   "cell_type": "code",
   "execution_count": null,
   "id": "106a1e8f",
   "metadata": {},
   "outputs": [],
   "source": [
    "coefficient_interval_plot(ae_random)"
   ]
  },
  {
   "cell_type": "code",
   "execution_count": null,
   "id": "0341ac08",
   "metadata": {},
   "outputs": [],
   "source": [
    "coefficient_interval_plot2(ae_random)"
   ]
  },
  {
   "cell_type": "code",
   "execution_count": null,
   "id": "0b50d7a5",
   "metadata": {},
   "outputs": [],
   "source": [
    "coefficient_interval_plot3(ae_random)"
   ]
  },
  {
   "cell_type": "markdown",
   "id": "adec0aca",
   "metadata": {},
   "source": [
    "### Compare"
   ]
  },
  {
   "cell_type": "code",
   "execution_count": null,
   "id": "bb256342",
   "metadata": {},
   "outputs": [],
   "source": [
    "datas = [ae_small_world, ae_scale_free, ae_random]\n",
    "lables = ['small-world', 'scale-free', 'random']\n",
    "compare_datas(datas, lables, x_label='Graph Number'\n",
    "              , y_label='Average eigvals', title='Comparing Average eigvals of graphs')"
   ]
  },
  {
   "cell_type": "markdown",
   "id": "f0fadcb0",
   "metadata": {},
   "source": [
    "# Node Similarity"
   ]
  },
  {
   "cell_type": "markdown",
   "id": "a32e528f",
   "metadata": {},
   "source": [
    "### Calculating"
   ]
  },
  {
   "cell_type": "code",
   "execution_count": null,
   "id": "16cabf52",
   "metadata": {},
   "outputs": [],
   "source": [
    "ns_small_world = []\n",
    "ns_scale_free = []\n",
    "ns_random = []\n",
    "for i in range(GRAPH_NUMBER):\n",
    "    ns_small_world.append(is_node_similar(small_worlds[i]))\n",
    "    ns_scale_free.append(is_node_similar(scale_frees[i]))\n",
    "    ns_random.append(is_node_similar(randoms[i]))"
   ]
  },
  {
   "cell_type": "markdown",
   "id": "ee49e13b",
   "metadata": {},
   "source": [
    "### small world"
   ]
  },
  {
   "cell_type": "code",
   "execution_count": null,
   "id": "a8a4d39d",
   "metadata": {},
   "outputs": [],
   "source": [
    "total_number = GRAPH_NUMBER\n",
    "node_similar_number = sum(ns_small_world)\n",
    "ns_probability = (node_similar_number / total_number) * 100\n",
    "print(f'node similar: {ns_probability}%')"
   ]
  },
  {
   "cell_type": "markdown",
   "id": "7e61ddbb",
   "metadata": {},
   "source": [
    "### scale free"
   ]
  },
  {
   "cell_type": "code",
   "execution_count": null,
   "id": "c9df6690",
   "metadata": {},
   "outputs": [],
   "source": [
    "total_number = GRAPH_NUMBER\n",
    "node_similar_number = sum(ns_scale_free)\n",
    "ns_probability = (node_similar_number / total_number) * 100\n",
    "print(f'node similar: {ns_probability}%')"
   ]
  },
  {
   "cell_type": "markdown",
   "id": "25bc4de0",
   "metadata": {},
   "source": [
    "### random"
   ]
  },
  {
   "cell_type": "code",
   "execution_count": null,
   "id": "928c6452",
   "metadata": {},
   "outputs": [],
   "source": [
    "total_number = GRAPH_NUMBER\n",
    "node_similar_number = sum(ns_random)\n",
    "ns_probability = (node_similar_number / total_number) * 100\n",
    "print(f'node similar: {ns_probability}%')"
   ]
  },
  {
   "cell_type": "markdown",
   "id": "822270cf",
   "metadata": {},
   "source": [
    "# Symmetry"
   ]
  },
  {
   "cell_type": "markdown",
   "id": "d77c021f",
   "metadata": {},
   "source": [
    "### Calculating"
   ]
  },
  {
   "cell_type": "code",
   "execution_count": null,
   "id": "c6bb62f7",
   "metadata": {},
   "outputs": [],
   "source": [
    "sym_small_world = []\n",
    "sym_scale_free = []\n",
    "sym_random = []\n",
    "for i in range(GRAPH_NUMBER):\n",
    "    sym_small_world.append(is_symmetry(small_worlds[i]))\n",
    "    sym_scale_free.append(is_symmetry(scale_frees[i]))\n",
    "    sym_random.append(is_symmetry(randoms[i]))"
   ]
  },
  {
   "cell_type": "markdown",
   "id": "fb3e28af",
   "metadata": {},
   "source": [
    "### small world"
   ]
  },
  {
   "cell_type": "code",
   "execution_count": null,
   "id": "fc9b79ab",
   "metadata": {},
   "outputs": [],
   "source": [
    "total_number = GRAPH_NUMBER\n",
    "symmetry_number = sum(sym_small_world)\n",
    "sym_probability = (symmetry_number / total_number) * 100\n",
    "print(f'symmetry: {sym_probability}%')"
   ]
  },
  {
   "cell_type": "markdown",
   "id": "1c6ee1a9",
   "metadata": {},
   "source": [
    "### scale free"
   ]
  },
  {
   "cell_type": "code",
   "execution_count": null,
   "id": "76050935",
   "metadata": {},
   "outputs": [],
   "source": [
    "total_number = GRAPH_NUMBER\n",
    "symmetry_number = sum(sym_scale_free)\n",
    "sym_probability = (symmetry_number / total_number) * 100\n",
    "print(f'symmetry: {sym_probability}%')"
   ]
  },
  {
   "cell_type": "markdown",
   "id": "0aa88b39",
   "metadata": {},
   "source": [
    "### random"
   ]
  },
  {
   "cell_type": "code",
   "execution_count": null,
   "id": "850279d6",
   "metadata": {},
   "outputs": [],
   "source": [
    "total_number = GRAPH_NUMBER\n",
    "symmetry_number = sum(sym_random)\n",
    "sym_probability = (symmetry_number / total_number) * 100\n",
    "print(f'symmetry: {sym_probability}%')"
   ]
  },
  {
   "cell_type": "markdown",
   "id": "7efa3632",
   "metadata": {},
   "source": [
    "# Laplacian Energy"
   ]
  },
  {
   "cell_type": "markdown",
   "id": "7814c153",
   "metadata": {},
   "source": [
    "### Calculating"
   ]
  },
  {
   "cell_type": "code",
   "execution_count": null,
   "id": "232af506",
   "metadata": {},
   "outputs": [],
   "source": [
    "# le = laplacian energy\n",
    "le_small_world = []\n",
    "le_scale_free = []\n",
    "le_random = []\n",
    "for i in range(GRAPH_NUMBER):\n",
    "    le_small_world.append(get_laplacian_energy(small_worlds[i]))\n",
    "    le_scale_free.append(get_laplacian_energy(scale_frees[i]))\n",
    "    le_random.append(get_laplacian_energy(randoms[i]))"
   ]
  },
  {
   "cell_type": "markdown",
   "id": "e167623e",
   "metadata": {},
   "source": [
    "### small world"
   ]
  },
  {
   "cell_type": "code",
   "execution_count": null,
   "id": "21dfa843",
   "metadata": {},
   "outputs": [],
   "source": [
    "get_details(le_small_world)"
   ]
  },
  {
   "cell_type": "code",
   "execution_count": null,
   "id": "6e883268",
   "metadata": {
    "scrolled": true
   },
   "outputs": [],
   "source": [
    "coefficient_interval_plot(le_small_world)"
   ]
  },
  {
   "cell_type": "code",
   "execution_count": null,
   "id": "cb45792b",
   "metadata": {},
   "outputs": [],
   "source": [
    "coefficient_interval_plot2(le_small_world)"
   ]
  },
  {
   "cell_type": "code",
   "execution_count": null,
   "id": "84d5aaaf",
   "metadata": {},
   "outputs": [],
   "source": [
    "coefficient_interval_plot3(le_small_world)"
   ]
  },
  {
   "cell_type": "markdown",
   "id": "e08acc55",
   "metadata": {},
   "source": [
    "### scale free"
   ]
  },
  {
   "cell_type": "code",
   "execution_count": null,
   "id": "6bedd8df",
   "metadata": {},
   "outputs": [],
   "source": [
    "get_details(le_scale_free)"
   ]
  },
  {
   "cell_type": "code",
   "execution_count": null,
   "id": "efb31c95",
   "metadata": {},
   "outputs": [],
   "source": [
    "coefficient_interval_plot(le_scale_free)"
   ]
  },
  {
   "cell_type": "code",
   "execution_count": null,
   "id": "827ba837",
   "metadata": {},
   "outputs": [],
   "source": [
    "coefficient_interval_plot2(le_scale_free)"
   ]
  },
  {
   "cell_type": "code",
   "execution_count": null,
   "id": "8785fc8c",
   "metadata": {},
   "outputs": [],
   "source": [
    "coefficient_interval_plot3(le_scale_free)"
   ]
  },
  {
   "cell_type": "markdown",
   "id": "254636e5",
   "metadata": {},
   "source": [
    "### random"
   ]
  },
  {
   "cell_type": "code",
   "execution_count": null,
   "id": "0f939112",
   "metadata": {},
   "outputs": [],
   "source": [
    "get_details(le_random)"
   ]
  },
  {
   "cell_type": "code",
   "execution_count": null,
   "id": "6f1f9281",
   "metadata": {},
   "outputs": [],
   "source": [
    "coefficient_interval_plot(le_random)"
   ]
  },
  {
   "cell_type": "code",
   "execution_count": null,
   "id": "f25499a9",
   "metadata": {},
   "outputs": [],
   "source": [
    "coefficient_interval_plot2(le_random)"
   ]
  },
  {
   "cell_type": "code",
   "execution_count": null,
   "id": "c3cfd934",
   "metadata": {},
   "outputs": [],
   "source": [
    "coefficient_interval_plot3(le_random)"
   ]
  },
  {
   "cell_type": "markdown",
   "id": "0d58cf43",
   "metadata": {},
   "source": [
    "### compare"
   ]
  },
  {
   "cell_type": "code",
   "execution_count": null,
   "id": "7b660c5b",
   "metadata": {},
   "outputs": [],
   "source": [
    "datas = [le_small_world, le_scale_free, le_random]\n",
    "lables = ['small-world', 'scale-free', 'random']\n",
    "compare_datas(datas, lables, x_label='Graph Number'\n",
    "              , y_label='Laplacian Energy', title='Comparing Laplacian Energy of graphs')"
   ]
  }
 ],
 "metadata": {
  "kernelspec": {
   "display_name": "Python 3 (ipykernel)",
   "language": "python",
   "name": "python3"
  },
  "language_info": {
   "codemirror_mode": {
    "name": "ipython",
    "version": 3
   },
   "file_extension": ".py",
   "mimetype": "text/x-python",
   "name": "python",
   "nbconvert_exporter": "python",
   "pygments_lexer": "ipython3",
   "version": "3.11.3"
  }
 },
 "nbformat": 4,
 "nbformat_minor": 5
}
